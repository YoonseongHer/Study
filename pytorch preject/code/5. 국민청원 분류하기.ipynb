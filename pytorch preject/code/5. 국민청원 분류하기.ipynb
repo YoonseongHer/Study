{
 "cells": [
  {
   "cell_type": "markdown",
   "id": "8fd52df7-63de-4751-a902-3a612c8f6b57",
   "metadata": {},
   "source": [
    "## CNN 국민 청원 분류하기"
   ]
  },
  {
   "cell_type": "markdown",
   "id": "07dc02a8-cd64-4231-b48e-4fb9358f050a",
   "metadata": {},
   "source": [
    "### 데이터 크롤링"
   ]
  },
  {
   "cell_type": "code",
   "execution_count": 5,
   "id": "b735c616-18bd-4398-a728-b4cbb3153f87",
   "metadata": {},
   "outputs": [
    {
     "name": "stdout",
     "output_type": "stream",
     "text": [
      "https://www1.president.go.kr/petitions/594316\n",
      "https://www1.president.go.kr/petitions/594317\n",
      "https://www1.president.go.kr/petitions/594318\n",
      "https://www1.president.go.kr/petitions/594319\n",
      "https://www1.president.go.kr/petitions/594320\n"
     ]
    }
   ],
   "source": [
    "for i in range(594316, 594321):\n",
    "    URL = \"https://www1.president.go.kr/petitions/\" + str(i)\n",
    "    print(URL)"
   ]
  },
  {
   "cell_type": "code",
   "execution_count": 108,
   "id": "747ebae7-a994-4afd-96c0-d81d735057f2",
   "metadata": {
    "collapsed": true,
    "jupyter": {
     "outputs_hidden": true
    },
    "tags": []
   },
   "outputs": [
    {
     "name": "stdout",
     "output_type": "stream",
     "text": [
      "Sleep 10seconds. Count:584280, Local Time:2021-11-08 15:04:13, Data Length:7\n",
      "Sleep 10seconds. Count:584340, Local Time:2021-11-08 15:04:22, Data Length:59\n",
      "Sleep 10seconds. Count:584400, Local Time:2021-11-08 15:04:26, Data Length:59\n",
      "Sleep 10seconds. Count:584460, Local Time:2021-11-08 15:04:29, Data Length:59\n",
      "Sleep 10seconds. Count:584520, Local Time:2021-11-08 15:04:33, Data Length:59\n",
      "Sleep 10seconds. Count:584580, Local Time:2021-11-08 15:04:37, Data Length:59\n",
      "Sleep 10seconds. Count:584640, Local Time:2021-11-08 15:04:40, Data Length:59\n",
      "Sleep 10seconds. Count:584700, Local Time:2021-11-08 15:04:44, Data Length:59\n",
      "Sleep 10seconds. Count:584760, Local Time:2021-11-08 15:04:47, Data Length:59\n",
      "Sleep 10seconds. Count:584820, Local Time:2021-11-08 15:04:51, Data Length:59\n"
     ]
    },
    {
     "ename": "KeyboardInterrupt",
     "evalue": "",
     "output_type": "error",
     "traceback": [
      "\u001b[0;31m---------------------------------------------------------------------------\u001b[0m",
      "\u001b[0;31mKeyboardInterrupt\u001b[0m                         Traceback (most recent call last)",
      "\u001b[0;32m<ipython-input-108-3e2cac2e9562>\u001b[0m in \u001b[0;36m<module>\u001b[0;34m\u001b[0m\n\u001b[1;32m     16\u001b[0m     \u001b[0mURL\u001b[0m \u001b[0;34m=\u001b[0m \u001b[0;34m\"https://www1.president.go.kr/petitions/\"\u001b[0m \u001b[0;34m+\u001b[0m \u001b[0mstr\u001b[0m\u001b[0;34m(\u001b[0m\u001b[0mi\u001b[0m\u001b[0;34m)\u001b[0m\u001b[0;34m\u001b[0m\u001b[0;34m\u001b[0m\u001b[0m\n\u001b[1;32m     17\u001b[0m \u001b[0;34m\u001b[0m\u001b[0m\n\u001b[0;32m---> 18\u001b[0;31m     \u001b[0mresponse\u001b[0m \u001b[0;34m=\u001b[0m \u001b[0mrequests\u001b[0m\u001b[0;34m.\u001b[0m\u001b[0mget\u001b[0m\u001b[0;34m(\u001b[0m\u001b[0mURL\u001b[0m\u001b[0;34m)\u001b[0m\u001b[0;34m\u001b[0m\u001b[0;34m\u001b[0m\u001b[0m\n\u001b[0m\u001b[1;32m     19\u001b[0m     \u001b[0mhtml\u001b[0m \u001b[0;34m=\u001b[0m \u001b[0mresponse\u001b[0m\u001b[0;34m.\u001b[0m\u001b[0mtext\u001b[0m\u001b[0;34m\u001b[0m\u001b[0;34m\u001b[0m\u001b[0m\n\u001b[1;32m     20\u001b[0m     \u001b[0msoup\u001b[0m \u001b[0;34m=\u001b[0m \u001b[0mBeautifulSoup\u001b[0m\u001b[0;34m(\u001b[0m\u001b[0mhtml\u001b[0m\u001b[0;34m,\u001b[0m \u001b[0;34m'html.parser'\u001b[0m\u001b[0;34m)\u001b[0m\u001b[0;34m\u001b[0m\u001b[0;34m\u001b[0m\u001b[0m\n",
      "\u001b[0;32m~/.conda/envs/ysher_yonsei/lib/python3.7/site-packages/requests/api.py\u001b[0m in \u001b[0;36mget\u001b[0;34m(url, params, **kwargs)\u001b[0m\n\u001b[1;32m     74\u001b[0m \u001b[0;34m\u001b[0m\u001b[0m\n\u001b[1;32m     75\u001b[0m     \u001b[0mkwargs\u001b[0m\u001b[0;34m.\u001b[0m\u001b[0msetdefault\u001b[0m\u001b[0;34m(\u001b[0m\u001b[0;34m'allow_redirects'\u001b[0m\u001b[0;34m,\u001b[0m \u001b[0;32mTrue\u001b[0m\u001b[0;34m)\u001b[0m\u001b[0;34m\u001b[0m\u001b[0;34m\u001b[0m\u001b[0m\n\u001b[0;32m---> 76\u001b[0;31m     \u001b[0;32mreturn\u001b[0m \u001b[0mrequest\u001b[0m\u001b[0;34m(\u001b[0m\u001b[0;34m'get'\u001b[0m\u001b[0;34m,\u001b[0m \u001b[0murl\u001b[0m\u001b[0;34m,\u001b[0m \u001b[0mparams\u001b[0m\u001b[0;34m=\u001b[0m\u001b[0mparams\u001b[0m\u001b[0;34m,\u001b[0m \u001b[0;34m**\u001b[0m\u001b[0mkwargs\u001b[0m\u001b[0;34m)\u001b[0m\u001b[0;34m\u001b[0m\u001b[0;34m\u001b[0m\u001b[0m\n\u001b[0m\u001b[1;32m     77\u001b[0m \u001b[0;34m\u001b[0m\u001b[0m\n\u001b[1;32m     78\u001b[0m \u001b[0;34m\u001b[0m\u001b[0m\n",
      "\u001b[0;32m~/.conda/envs/ysher_yonsei/lib/python3.7/site-packages/requests/api.py\u001b[0m in \u001b[0;36mrequest\u001b[0;34m(method, url, **kwargs)\u001b[0m\n\u001b[1;32m     59\u001b[0m     \u001b[0;31m# cases, and look like a memory leak in others.\u001b[0m\u001b[0;34m\u001b[0m\u001b[0;34m\u001b[0m\u001b[0;34m\u001b[0m\u001b[0m\n\u001b[1;32m     60\u001b[0m     \u001b[0;32mwith\u001b[0m \u001b[0msessions\u001b[0m\u001b[0;34m.\u001b[0m\u001b[0mSession\u001b[0m\u001b[0;34m(\u001b[0m\u001b[0;34m)\u001b[0m \u001b[0;32mas\u001b[0m \u001b[0msession\u001b[0m\u001b[0;34m:\u001b[0m\u001b[0;34m\u001b[0m\u001b[0;34m\u001b[0m\u001b[0m\n\u001b[0;32m---> 61\u001b[0;31m         \u001b[0;32mreturn\u001b[0m \u001b[0msession\u001b[0m\u001b[0;34m.\u001b[0m\u001b[0mrequest\u001b[0m\u001b[0;34m(\u001b[0m\u001b[0mmethod\u001b[0m\u001b[0;34m=\u001b[0m\u001b[0mmethod\u001b[0m\u001b[0;34m,\u001b[0m \u001b[0murl\u001b[0m\u001b[0;34m=\u001b[0m\u001b[0murl\u001b[0m\u001b[0;34m,\u001b[0m \u001b[0;34m**\u001b[0m\u001b[0mkwargs\u001b[0m\u001b[0;34m)\u001b[0m\u001b[0;34m\u001b[0m\u001b[0;34m\u001b[0m\u001b[0m\n\u001b[0m\u001b[1;32m     62\u001b[0m \u001b[0;34m\u001b[0m\u001b[0m\n\u001b[1;32m     63\u001b[0m \u001b[0;34m\u001b[0m\u001b[0m\n",
      "\u001b[0;32m~/.conda/envs/ysher_yonsei/lib/python3.7/site-packages/requests/sessions.py\u001b[0m in \u001b[0;36mrequest\u001b[0;34m(self, method, url, params, data, headers, cookies, files, auth, timeout, allow_redirects, proxies, hooks, stream, verify, cert, json)\u001b[0m\n\u001b[1;32m    540\u001b[0m         }\n\u001b[1;32m    541\u001b[0m         \u001b[0msend_kwargs\u001b[0m\u001b[0;34m.\u001b[0m\u001b[0mupdate\u001b[0m\u001b[0;34m(\u001b[0m\u001b[0msettings\u001b[0m\u001b[0;34m)\u001b[0m\u001b[0;34m\u001b[0m\u001b[0;34m\u001b[0m\u001b[0m\n\u001b[0;32m--> 542\u001b[0;31m         \u001b[0mresp\u001b[0m \u001b[0;34m=\u001b[0m \u001b[0mself\u001b[0m\u001b[0;34m.\u001b[0m\u001b[0msend\u001b[0m\u001b[0;34m(\u001b[0m\u001b[0mprep\u001b[0m\u001b[0;34m,\u001b[0m \u001b[0;34m**\u001b[0m\u001b[0msend_kwargs\u001b[0m\u001b[0;34m)\u001b[0m\u001b[0;34m\u001b[0m\u001b[0;34m\u001b[0m\u001b[0m\n\u001b[0m\u001b[1;32m    543\u001b[0m \u001b[0;34m\u001b[0m\u001b[0m\n\u001b[1;32m    544\u001b[0m         \u001b[0;32mreturn\u001b[0m \u001b[0mresp\u001b[0m\u001b[0;34m\u001b[0m\u001b[0;34m\u001b[0m\u001b[0m\n",
      "\u001b[0;32m~/.conda/envs/ysher_yonsei/lib/python3.7/site-packages/requests/sessions.py\u001b[0m in \u001b[0;36msend\u001b[0;34m(self, request, **kwargs)\u001b[0m\n\u001b[1;32m    653\u001b[0m \u001b[0;34m\u001b[0m\u001b[0m\n\u001b[1;32m    654\u001b[0m         \u001b[0;31m# Send the request\u001b[0m\u001b[0;34m\u001b[0m\u001b[0;34m\u001b[0m\u001b[0;34m\u001b[0m\u001b[0m\n\u001b[0;32m--> 655\u001b[0;31m         \u001b[0mr\u001b[0m \u001b[0;34m=\u001b[0m \u001b[0madapter\u001b[0m\u001b[0;34m.\u001b[0m\u001b[0msend\u001b[0m\u001b[0;34m(\u001b[0m\u001b[0mrequest\u001b[0m\u001b[0;34m,\u001b[0m \u001b[0;34m**\u001b[0m\u001b[0mkwargs\u001b[0m\u001b[0;34m)\u001b[0m\u001b[0;34m\u001b[0m\u001b[0;34m\u001b[0m\u001b[0m\n\u001b[0m\u001b[1;32m    656\u001b[0m \u001b[0;34m\u001b[0m\u001b[0m\n\u001b[1;32m    657\u001b[0m         \u001b[0;31m# Total elapsed time of the request (approximately)\u001b[0m\u001b[0;34m\u001b[0m\u001b[0;34m\u001b[0m\u001b[0;34m\u001b[0m\u001b[0m\n",
      "\u001b[0;32m~/.conda/envs/ysher_yonsei/lib/python3.7/site-packages/requests/adapters.py\u001b[0m in \u001b[0;36msend\u001b[0;34m(self, request, stream, timeout, verify, cert, proxies)\u001b[0m\n\u001b[1;32m    447\u001b[0m                     \u001b[0mdecode_content\u001b[0m\u001b[0;34m=\u001b[0m\u001b[0;32mFalse\u001b[0m\u001b[0;34m,\u001b[0m\u001b[0;34m\u001b[0m\u001b[0;34m\u001b[0m\u001b[0m\n\u001b[1;32m    448\u001b[0m                     \u001b[0mretries\u001b[0m\u001b[0;34m=\u001b[0m\u001b[0mself\u001b[0m\u001b[0;34m.\u001b[0m\u001b[0mmax_retries\u001b[0m\u001b[0;34m,\u001b[0m\u001b[0;34m\u001b[0m\u001b[0;34m\u001b[0m\u001b[0m\n\u001b[0;32m--> 449\u001b[0;31m                     \u001b[0mtimeout\u001b[0m\u001b[0;34m=\u001b[0m\u001b[0mtimeout\u001b[0m\u001b[0;34m\u001b[0m\u001b[0;34m\u001b[0m\u001b[0m\n\u001b[0m\u001b[1;32m    450\u001b[0m                 )\n\u001b[1;32m    451\u001b[0m \u001b[0;34m\u001b[0m\u001b[0m\n",
      "\u001b[0;32m~/.conda/envs/ysher_yonsei/lib/python3.7/site-packages/urllib3/connectionpool.py\u001b[0m in \u001b[0;36murlopen\u001b[0;34m(self, method, url, body, headers, retries, redirect, assert_same_host, timeout, pool_timeout, release_conn, chunked, body_pos, **response_kw)\u001b[0m\n\u001b[1;32m    704\u001b[0m                 \u001b[0mbody\u001b[0m\u001b[0;34m=\u001b[0m\u001b[0mbody\u001b[0m\u001b[0;34m,\u001b[0m\u001b[0;34m\u001b[0m\u001b[0;34m\u001b[0m\u001b[0m\n\u001b[1;32m    705\u001b[0m                 \u001b[0mheaders\u001b[0m\u001b[0;34m=\u001b[0m\u001b[0mheaders\u001b[0m\u001b[0;34m,\u001b[0m\u001b[0;34m\u001b[0m\u001b[0;34m\u001b[0m\u001b[0m\n\u001b[0;32m--> 706\u001b[0;31m                 \u001b[0mchunked\u001b[0m\u001b[0;34m=\u001b[0m\u001b[0mchunked\u001b[0m\u001b[0;34m,\u001b[0m\u001b[0;34m\u001b[0m\u001b[0;34m\u001b[0m\u001b[0m\n\u001b[0m\u001b[1;32m    707\u001b[0m             )\n\u001b[1;32m    708\u001b[0m \u001b[0;34m\u001b[0m\u001b[0m\n",
      "\u001b[0;32m~/.conda/envs/ysher_yonsei/lib/python3.7/site-packages/urllib3/connectionpool.py\u001b[0m in \u001b[0;36m_make_request\u001b[0;34m(self, conn, method, url, timeout, chunked, **httplib_request_kw)\u001b[0m\n\u001b[1;32m    380\u001b[0m         \u001b[0;31m# Trigger any extra validation we need to do.\u001b[0m\u001b[0;34m\u001b[0m\u001b[0;34m\u001b[0m\u001b[0;34m\u001b[0m\u001b[0m\n\u001b[1;32m    381\u001b[0m         \u001b[0;32mtry\u001b[0m\u001b[0;34m:\u001b[0m\u001b[0;34m\u001b[0m\u001b[0;34m\u001b[0m\u001b[0m\n\u001b[0;32m--> 382\u001b[0;31m             \u001b[0mself\u001b[0m\u001b[0;34m.\u001b[0m\u001b[0m_validate_conn\u001b[0m\u001b[0;34m(\u001b[0m\u001b[0mconn\u001b[0m\u001b[0;34m)\u001b[0m\u001b[0;34m\u001b[0m\u001b[0;34m\u001b[0m\u001b[0m\n\u001b[0m\u001b[1;32m    383\u001b[0m         \u001b[0;32mexcept\u001b[0m \u001b[0;34m(\u001b[0m\u001b[0mSocketTimeout\u001b[0m\u001b[0;34m,\u001b[0m \u001b[0mBaseSSLError\u001b[0m\u001b[0;34m)\u001b[0m \u001b[0;32mas\u001b[0m \u001b[0me\u001b[0m\u001b[0;34m:\u001b[0m\u001b[0;34m\u001b[0m\u001b[0;34m\u001b[0m\u001b[0m\n\u001b[1;32m    384\u001b[0m             \u001b[0;31m# Py2 raises this as a BaseSSLError, Py3 raises it as socket timeout.\u001b[0m\u001b[0;34m\u001b[0m\u001b[0;34m\u001b[0m\u001b[0;34m\u001b[0m\u001b[0m\n",
      "\u001b[0;32m~/.conda/envs/ysher_yonsei/lib/python3.7/site-packages/urllib3/connectionpool.py\u001b[0m in \u001b[0;36m_validate_conn\u001b[0;34m(self, conn)\u001b[0m\n\u001b[1;32m   1008\u001b[0m         \u001b[0;31m# Force connect early to allow us to validate the connection.\u001b[0m\u001b[0;34m\u001b[0m\u001b[0;34m\u001b[0m\u001b[0;34m\u001b[0m\u001b[0m\n\u001b[1;32m   1009\u001b[0m         \u001b[0;32mif\u001b[0m \u001b[0;32mnot\u001b[0m \u001b[0mgetattr\u001b[0m\u001b[0;34m(\u001b[0m\u001b[0mconn\u001b[0m\u001b[0;34m,\u001b[0m \u001b[0;34m\"sock\"\u001b[0m\u001b[0;34m,\u001b[0m \u001b[0;32mNone\u001b[0m\u001b[0;34m)\u001b[0m\u001b[0;34m:\u001b[0m  \u001b[0;31m# AppEngine might not have  `.sock`\u001b[0m\u001b[0;34m\u001b[0m\u001b[0;34m\u001b[0m\u001b[0m\n\u001b[0;32m-> 1010\u001b[0;31m             \u001b[0mconn\u001b[0m\u001b[0;34m.\u001b[0m\u001b[0mconnect\u001b[0m\u001b[0;34m(\u001b[0m\u001b[0;34m)\u001b[0m\u001b[0;34m\u001b[0m\u001b[0;34m\u001b[0m\u001b[0m\n\u001b[0m\u001b[1;32m   1011\u001b[0m \u001b[0;34m\u001b[0m\u001b[0m\n\u001b[1;32m   1012\u001b[0m         \u001b[0;32mif\u001b[0m \u001b[0;32mnot\u001b[0m \u001b[0mconn\u001b[0m\u001b[0;34m.\u001b[0m\u001b[0mis_verified\u001b[0m\u001b[0;34m:\u001b[0m\u001b[0;34m\u001b[0m\u001b[0;34m\u001b[0m\u001b[0m\n",
      "\u001b[0;32m~/.conda/envs/ysher_yonsei/lib/python3.7/site-packages/urllib3/connection.py\u001b[0m in \u001b[0;36mconnect\u001b[0;34m(self)\u001b[0m\n\u001b[1;32m    419\u001b[0m             \u001b[0mserver_hostname\u001b[0m\u001b[0;34m=\u001b[0m\u001b[0mserver_hostname\u001b[0m\u001b[0;34m,\u001b[0m\u001b[0;34m\u001b[0m\u001b[0;34m\u001b[0m\u001b[0m\n\u001b[1;32m    420\u001b[0m             \u001b[0mssl_context\u001b[0m\u001b[0;34m=\u001b[0m\u001b[0mcontext\u001b[0m\u001b[0;34m,\u001b[0m\u001b[0;34m\u001b[0m\u001b[0;34m\u001b[0m\u001b[0m\n\u001b[0;32m--> 421\u001b[0;31m             \u001b[0mtls_in_tls\u001b[0m\u001b[0;34m=\u001b[0m\u001b[0mtls_in_tls\u001b[0m\u001b[0;34m,\u001b[0m\u001b[0;34m\u001b[0m\u001b[0;34m\u001b[0m\u001b[0m\n\u001b[0m\u001b[1;32m    422\u001b[0m         )\n\u001b[1;32m    423\u001b[0m \u001b[0;34m\u001b[0m\u001b[0m\n",
      "\u001b[0;32m~/.conda/envs/ysher_yonsei/lib/python3.7/site-packages/urllib3/util/ssl_.py\u001b[0m in \u001b[0;36mssl_wrap_socket\u001b[0;34m(sock, keyfile, certfile, cert_reqs, ca_certs, server_hostname, ssl_version, ciphers, ssl_context, ca_cert_dir, key_password, ca_cert_data, tls_in_tls)\u001b[0m\n\u001b[1;32m    448\u001b[0m     \u001b[0;32mif\u001b[0m \u001b[0msend_sni\u001b[0m\u001b[0;34m:\u001b[0m\u001b[0;34m\u001b[0m\u001b[0;34m\u001b[0m\u001b[0m\n\u001b[1;32m    449\u001b[0m         ssl_sock = _ssl_wrap_socket_impl(\n\u001b[0;32m--> 450\u001b[0;31m             \u001b[0msock\u001b[0m\u001b[0;34m,\u001b[0m \u001b[0mcontext\u001b[0m\u001b[0;34m,\u001b[0m \u001b[0mtls_in_tls\u001b[0m\u001b[0;34m,\u001b[0m \u001b[0mserver_hostname\u001b[0m\u001b[0;34m=\u001b[0m\u001b[0mserver_hostname\u001b[0m\u001b[0;34m\u001b[0m\u001b[0;34m\u001b[0m\u001b[0m\n\u001b[0m\u001b[1;32m    451\u001b[0m         )\n\u001b[1;32m    452\u001b[0m     \u001b[0;32melse\u001b[0m\u001b[0;34m:\u001b[0m\u001b[0;34m\u001b[0m\u001b[0;34m\u001b[0m\u001b[0m\n",
      "\u001b[0;32m~/.conda/envs/ysher_yonsei/lib/python3.7/site-packages/urllib3/util/ssl_.py\u001b[0m in \u001b[0;36m_ssl_wrap_socket_impl\u001b[0;34m(sock, ssl_context, tls_in_tls, server_hostname)\u001b[0m\n\u001b[1;32m    491\u001b[0m \u001b[0;34m\u001b[0m\u001b[0m\n\u001b[1;32m    492\u001b[0m     \u001b[0;32mif\u001b[0m \u001b[0mserver_hostname\u001b[0m\u001b[0;34m:\u001b[0m\u001b[0;34m\u001b[0m\u001b[0;34m\u001b[0m\u001b[0m\n\u001b[0;32m--> 493\u001b[0;31m         \u001b[0;32mreturn\u001b[0m \u001b[0mssl_context\u001b[0m\u001b[0;34m.\u001b[0m\u001b[0mwrap_socket\u001b[0m\u001b[0;34m(\u001b[0m\u001b[0msock\u001b[0m\u001b[0;34m,\u001b[0m \u001b[0mserver_hostname\u001b[0m\u001b[0;34m=\u001b[0m\u001b[0mserver_hostname\u001b[0m\u001b[0;34m)\u001b[0m\u001b[0;34m\u001b[0m\u001b[0;34m\u001b[0m\u001b[0m\n\u001b[0m\u001b[1;32m    494\u001b[0m     \u001b[0;32melse\u001b[0m\u001b[0;34m:\u001b[0m\u001b[0;34m\u001b[0m\u001b[0;34m\u001b[0m\u001b[0m\n\u001b[1;32m    495\u001b[0m         \u001b[0;32mreturn\u001b[0m \u001b[0mssl_context\u001b[0m\u001b[0;34m.\u001b[0m\u001b[0mwrap_socket\u001b[0m\u001b[0;34m(\u001b[0m\u001b[0msock\u001b[0m\u001b[0;34m)\u001b[0m\u001b[0;34m\u001b[0m\u001b[0;34m\u001b[0m\u001b[0m\n",
      "\u001b[0;32m~/.conda/envs/ysher_yonsei/lib/python3.7/ssl.py\u001b[0m in \u001b[0;36mwrap_socket\u001b[0;34m(self, sock, server_side, do_handshake_on_connect, suppress_ragged_eofs, server_hostname, session)\u001b[0m\n\u001b[1;32m    421\u001b[0m             \u001b[0mserver_hostname\u001b[0m\u001b[0;34m=\u001b[0m\u001b[0mserver_hostname\u001b[0m\u001b[0;34m,\u001b[0m\u001b[0;34m\u001b[0m\u001b[0;34m\u001b[0m\u001b[0m\n\u001b[1;32m    422\u001b[0m             \u001b[0mcontext\u001b[0m\u001b[0;34m=\u001b[0m\u001b[0mself\u001b[0m\u001b[0;34m,\u001b[0m\u001b[0;34m\u001b[0m\u001b[0;34m\u001b[0m\u001b[0m\n\u001b[0;32m--> 423\u001b[0;31m             \u001b[0msession\u001b[0m\u001b[0;34m=\u001b[0m\u001b[0msession\u001b[0m\u001b[0;34m\u001b[0m\u001b[0;34m\u001b[0m\u001b[0m\n\u001b[0m\u001b[1;32m    424\u001b[0m         )\n\u001b[1;32m    425\u001b[0m \u001b[0;34m\u001b[0m\u001b[0m\n",
      "\u001b[0;32m~/.conda/envs/ysher_yonsei/lib/python3.7/ssl.py\u001b[0m in \u001b[0;36m_create\u001b[0;34m(cls, sock, server_side, do_handshake_on_connect, suppress_ragged_eofs, server_hostname, context, session)\u001b[0m\n\u001b[1;32m    868\u001b[0m                         \u001b[0;31m# non-blocking\u001b[0m\u001b[0;34m\u001b[0m\u001b[0;34m\u001b[0m\u001b[0;34m\u001b[0m\u001b[0m\n\u001b[1;32m    869\u001b[0m                         \u001b[0;32mraise\u001b[0m \u001b[0mValueError\u001b[0m\u001b[0;34m(\u001b[0m\u001b[0;34m\"do_handshake_on_connect should not be specified for non-blocking sockets\"\u001b[0m\u001b[0;34m)\u001b[0m\u001b[0;34m\u001b[0m\u001b[0;34m\u001b[0m\u001b[0m\n\u001b[0;32m--> 870\u001b[0;31m                     \u001b[0mself\u001b[0m\u001b[0;34m.\u001b[0m\u001b[0mdo_handshake\u001b[0m\u001b[0;34m(\u001b[0m\u001b[0;34m)\u001b[0m\u001b[0;34m\u001b[0m\u001b[0;34m\u001b[0m\u001b[0m\n\u001b[0m\u001b[1;32m    871\u001b[0m             \u001b[0;32mexcept\u001b[0m \u001b[0;34m(\u001b[0m\u001b[0mOSError\u001b[0m\u001b[0;34m,\u001b[0m \u001b[0mValueError\u001b[0m\u001b[0;34m)\u001b[0m\u001b[0;34m:\u001b[0m\u001b[0;34m\u001b[0m\u001b[0;34m\u001b[0m\u001b[0m\n\u001b[1;32m    872\u001b[0m                 \u001b[0mself\u001b[0m\u001b[0;34m.\u001b[0m\u001b[0mclose\u001b[0m\u001b[0;34m(\u001b[0m\u001b[0;34m)\u001b[0m\u001b[0;34m\u001b[0m\u001b[0;34m\u001b[0m\u001b[0m\n",
      "\u001b[0;32m~/.conda/envs/ysher_yonsei/lib/python3.7/ssl.py\u001b[0m in \u001b[0;36mdo_handshake\u001b[0;34m(self, block)\u001b[0m\n\u001b[1;32m   1137\u001b[0m             \u001b[0;32mif\u001b[0m \u001b[0mtimeout\u001b[0m \u001b[0;34m==\u001b[0m \u001b[0;36m0.0\u001b[0m \u001b[0;32mand\u001b[0m \u001b[0mblock\u001b[0m\u001b[0;34m:\u001b[0m\u001b[0;34m\u001b[0m\u001b[0;34m\u001b[0m\u001b[0m\n\u001b[1;32m   1138\u001b[0m                 \u001b[0mself\u001b[0m\u001b[0;34m.\u001b[0m\u001b[0msettimeout\u001b[0m\u001b[0;34m(\u001b[0m\u001b[0;32mNone\u001b[0m\u001b[0;34m)\u001b[0m\u001b[0;34m\u001b[0m\u001b[0;34m\u001b[0m\u001b[0m\n\u001b[0;32m-> 1139\u001b[0;31m             \u001b[0mself\u001b[0m\u001b[0;34m.\u001b[0m\u001b[0m_sslobj\u001b[0m\u001b[0;34m.\u001b[0m\u001b[0mdo_handshake\u001b[0m\u001b[0;34m(\u001b[0m\u001b[0;34m)\u001b[0m\u001b[0;34m\u001b[0m\u001b[0;34m\u001b[0m\u001b[0m\n\u001b[0m\u001b[1;32m   1140\u001b[0m         \u001b[0;32mfinally\u001b[0m\u001b[0;34m:\u001b[0m\u001b[0;34m\u001b[0m\u001b[0;34m\u001b[0m\u001b[0m\n\u001b[1;32m   1141\u001b[0m             \u001b[0mself\u001b[0m\u001b[0;34m.\u001b[0m\u001b[0msettimeout\u001b[0m\u001b[0;34m(\u001b[0m\u001b[0mtimeout\u001b[0m\u001b[0;34m)\u001b[0m\u001b[0;34m\u001b[0m\u001b[0;34m\u001b[0m\u001b[0m\n",
      "\u001b[0;31mKeyboardInterrupt\u001b[0m: "
     ]
    }
   ],
   "source": [
    "import pandas as pd\n",
    "import numpy as np\n",
    "import requests\n",
    "from bs4 import BeautifulSoup\n",
    "import time\n",
    "from selenium import webdriver\n",
    "\n",
    "# from selenium.webdriver.chrome.options import Options \n",
    "# options = Options() \n",
    "# options.binary_location= r'/Raid_data/home_storage/ysher_d/study/pytorch preject/'\n",
    "# driver = webdriver.Chrome(r'/Raid_data/home_storage/ysher_d/study/pytorch preject/chromedriver',options = chrome_options)\n",
    "# driver.implicitly_wait(3)\n",
    "\n",
    "result = pd.DataFrame()\n",
    "for i in range(584274, 595226):\n",
    "    URL = \"https://www1.president.go.kr/petitions/\" + str(i)\n",
    "    \n",
    "    response = requests.get(URL)\n",
    "    html = response.text\n",
    "    soup = BeautifulSoup(html, 'html.parser')\n",
    "    title = soup.find('h3', class_='petitionsView_title')\n",
    "    count = soup.find('span',class_ = 'counter')\n",
    "    \n",
    "    for content in soup.select('div.petitionsView_write > div.View_write'):\n",
    "        content\n",
    "    a=[]\n",
    "    for tag in soup.select('ul.petitionsView_info_list > li'):\n",
    "        a.append(tag.contents[1])\n",
    "\n",
    "    if len(a) != 0:\n",
    "        df1 = pd.DataFrame({ \"start\" : [a[1]],\n",
    "                             \"end\" : [a[2]],\n",
    "                             \"category\" : [count.text],\n",
    "                             \"title\" : [title.text],\n",
    "                             \"content\" : [content.text.strip()[0:13000]] })\n",
    "\n",
    "        result = pd.concat([result, df1])\n",
    "        result.index = np.arange(len(result))\n",
    "\n",
    "    if i % 60 == 0:\n",
    "        print(\"Sleep 10seconds. Count:\" + str(i)\n",
    "             + \", Local Time:\" + time.strftime(\"%Y-%m-%d\", time.localtime(time.time()))\n",
    "             + \" \" + time.strftime(\"%X\", time.localtime(time.time()))\n",
    "             + \", Data Length:\"+str(len(result))\n",
    "             )\n",
    "        time.sleep(1)"
   ]
  },
  {
   "cell_type": "code",
   "execution_count": 112,
   "id": "fbce36cf-4dcd-4697-a794-e7ce675c599b",
   "metadata": {},
   "outputs": [
    {
     "name": "stdout",
     "output_type": "stream",
     "text": [
      "(10887, 5)\n"
     ]
    },
    {
     "data": {
      "text/html": [
       "<div>\n",
       "<style scoped>\n",
       "    .dataframe tbody tr th:only-of-type {\n",
       "        vertical-align: middle;\n",
       "    }\n",
       "\n",
       "    .dataframe tbody tr th {\n",
       "        vertical-align: top;\n",
       "    }\n",
       "\n",
       "    .dataframe thead th {\n",
       "        text-align: right;\n",
       "    }\n",
       "</style>\n",
       "<table border=\"1\" class=\"dataframe\">\n",
       "  <thead>\n",
       "    <tr style=\"text-align: right;\">\n",
       "      <th></th>\n",
       "      <th>start</th>\n",
       "      <th>end</th>\n",
       "      <th>category</th>\n",
       "      <th>title</th>\n",
       "      <th>content</th>\n",
       "    </tr>\n",
       "  </thead>\n",
       "  <tbody>\n",
       "    <tr>\n",
       "      <th>0</th>\n",
       "      <td>2020-01-02</td>\n",
       "      <td>2020-02-01</td>\n",
       "      <td>267</td>\n",
       "      <td>서울지방병무청 탈의실에 설치된 CCTV에 대한 진상규명을 요구한다. 또한 인권위의 ...</td>\n",
       "      <td>본인은 2019년 8월 경 서울지방병무청 제1검사장 탈의실에서 믿을 수 없는 것을 ...</td>\n",
       "    </tr>\n",
       "    <tr>\n",
       "      <th>1</th>\n",
       "      <td>2020-01-02</td>\n",
       "      <td>2020-02-01</td>\n",
       "      <td>271</td>\n",
       "      <td>주식시장 활성화 및 소액(개미)투자자 보호</td>\n",
       "      <td>우리 나라 코스피 시총이 미국 애플보다 작다는 설이 돌 정도로 한국의 주식시장은 저...</td>\n",
       "    </tr>\n",
       "    <tr>\n",
       "      <th>2</th>\n",
       "      <td>2020-01-02</td>\n",
       "      <td>2020-02-01</td>\n",
       "      <td>198</td>\n",
       "      <td>교정기관의 민낮</td>\n",
       "      <td>억울한 일로 국민청원을 신청합니다.\\n\\n 저는 **구치소 **교도관입니다.\\n\\n...</td>\n",
       "    </tr>\n",
       "    <tr>\n",
       "      <th>3</th>\n",
       "      <td>2020-01-02</td>\n",
       "      <td>2020-02-01</td>\n",
       "      <td>170</td>\n",
       "      <td>미세먼지 저감 대책</td>\n",
       "      <td>미세먼지의 심각성은 이제 적극적인 대안을 요구 하고 있습니다.\\n우리 일상에서 가장...</td>\n",
       "    </tr>\n",
       "    <tr>\n",
       "      <th>4</th>\n",
       "      <td>2020-01-02</td>\n",
       "      <td>2020-02-01</td>\n",
       "      <td>2,127</td>\n",
       "      <td>악질세입자 방지를 위한 세입자보호법을 재정해주세요.</td>\n",
       "      <td>저는 우선 아이셋의 부모입니다.\\n식구가 많은편이고 아이들이 성장함에 따라 집이 좁...</td>\n",
       "    </tr>\n",
       "  </tbody>\n",
       "</table>\n",
       "</div>"
      ],
      "text/plain": [
       "        start         end category  \\\n",
       "0  2020-01-02  2020-02-01      267   \n",
       "1  2020-01-02  2020-02-01      271   \n",
       "2  2020-01-02  2020-02-01      198   \n",
       "3  2020-01-02  2020-02-01      170   \n",
       "4  2020-01-02  2020-02-01    2,127   \n",
       "\n",
       "                                               title  \\\n",
       "0  서울지방병무청 탈의실에 설치된 CCTV에 대한 진상규명을 요구한다. 또한 인권위의 ...   \n",
       "1                            주식시장 활성화 및 소액(개미)투자자 보호   \n",
       "2                                           교정기관의 민낮   \n",
       "3                                         미세먼지 저감 대책   \n",
       "4                       악질세입자 방지를 위한 세입자보호법을 재정해주세요.   \n",
       "\n",
       "                                             content  \n",
       "0  본인은 2019년 8월 경 서울지방병무청 제1검사장 탈의실에서 믿을 수 없는 것을 ...  \n",
       "1  우리 나라 코스피 시총이 미국 애플보다 작다는 설이 돌 정도로 한국의 주식시장은 저...  \n",
       "2  억울한 일로 국민청원을 신청합니다.\\n\\n 저는 **구치소 **교도관입니다.\\n\\n...  \n",
       "3  미세먼지의 심각성은 이제 적극적인 대안을 요구 하고 있습니다.\\n우리 일상에서 가장...  \n",
       "4  저는 우선 아이셋의 부모입니다.\\n식구가 많은편이고 아이들이 성장함에 따라 집이 좁...  "
      ]
     },
     "execution_count": 112,
     "metadata": {},
     "output_type": "execute_result"
    }
   ],
   "source": [
    "result = pd.read_csv(\"../data/2020_petition.csv\", index_col=[0])\n",
    "print(result.shape)\n",
    "\n",
    "df = result\n",
    "df.head()"
   ]
  },
  {
   "cell_type": "markdown",
   "id": "0132e0d7-b1ce-4bf9-a291-8c8170f71160",
   "metadata": {},
   "source": [
    "### 데이터 전처리"
   ]
  },
  {
   "cell_type": "code",
   "execution_count": 113,
   "id": "da0135fd-a39b-47ef-9dba-08177191cb56",
   "metadata": {},
   "outputs": [],
   "source": [
    "import re\n",
    "\n",
    "def remove_white_space(text):\n",
    "    text = re.sub(r\"[\\t\\r\\n\\f\\v]\",\" \",str(text))\n",
    "    return text\n",
    "\n",
    "def remove_special_char(text):\n",
    "    text = re.sub(\"[^ ㄱ-ㅣ가-힣 0-9]+\",\" \",str(text))\n",
    "    return text\n",
    "\n",
    "df.title = df.title.apply(remove_white_space)\n",
    "df.title = df.title.apply(remove_special_char)\n",
    "\n",
    "df.content = df.content.apply(remove_white_space)\n",
    "df.content = df.content.apply(remove_special_char)"
   ]
  },
  {
   "cell_type": "markdown",
   "id": "e508517c-1cf8-41f0-bb9e-c67090532ae0",
   "metadata": {},
   "source": [
    "### 토크나이징 및 변수 생성"
   ]
  },
  {
   "cell_type": "code",
   "execution_count": 116,
   "id": "157a0ae9-7a14-4cf1-ae8b-d79e17320769",
   "metadata": {},
   "outputs": [],
   "source": [
    "from konlpy.tag import Okt\n",
    "\n",
    "okt = Okt()\n",
    "\n",
    "df['title_token'] = df.title.apply(okt.morphs) # 형태소로 토크나이징\n",
    "df['content_token'] = df.content.apply(okt.nouns) # 명사로 토크나이징"
   ]
  },
  {
   "cell_type": "markdown",
   "id": "2b0e707e-28c0-4f93-aba0-5c74de2600e5",
   "metadata": {},
   "source": [
    "### 파생변수 생성"
   ]
  },
  {
   "cell_type": "code",
   "execution_count": 118,
   "id": "226afe57-ea16-4b46-9455-e8ef5ad7fb40",
   "metadata": {},
   "outputs": [
    {
     "data": {
      "text/html": [
       "<div>\n",
       "<style scoped>\n",
       "    .dataframe tbody tr th:only-of-type {\n",
       "        vertical-align: middle;\n",
       "    }\n",
       "\n",
       "    .dataframe tbody tr th {\n",
       "        vertical-align: top;\n",
       "    }\n",
       "\n",
       "    .dataframe thead th {\n",
       "        text-align: right;\n",
       "    }\n",
       "</style>\n",
       "<table border=\"1\" class=\"dataframe\">\n",
       "  <thead>\n",
       "    <tr style=\"text-align: right;\">\n",
       "      <th></th>\n",
       "      <th>start</th>\n",
       "      <th>end</th>\n",
       "      <th>category</th>\n",
       "      <th>title</th>\n",
       "      <th>content</th>\n",
       "      <th>title_token</th>\n",
       "      <th>content_token</th>\n",
       "      <th>token_final</th>\n",
       "    </tr>\n",
       "  </thead>\n",
       "  <tbody>\n",
       "    <tr>\n",
       "      <th>0</th>\n",
       "      <td>2020-01-02</td>\n",
       "      <td>2020-02-01</td>\n",
       "      <td>267</td>\n",
       "      <td>서울지방병무청 탈의실에 설치된  에 대한 진상규명을 요구한다  또한 인권위의 미온적...</td>\n",
       "      <td>본인은 2019년 8월 경 서울지방병무청 제1검사장 탈의실에서 믿을 수 없는 것을 ...</td>\n",
       "      <td>[서울, 지방, 병무청, 탈의실, 에, 설치, 된, 에, 대한, 진상, 규명, 을,...</td>\n",
       "      <td>[본인, 경, 서울, 지방, 병무청, 제, 검사, 탈의실, 수, 것, 발견, 탈의실...</td>\n",
       "      <td>[서울, 지방, 병무청, 탈의실, 에, 설치, 된, 에, 대한, 진상, 규명, 을,...</td>\n",
       "    </tr>\n",
       "    <tr>\n",
       "      <th>1</th>\n",
       "      <td>2020-01-02</td>\n",
       "      <td>2020-02-01</td>\n",
       "      <td>271</td>\n",
       "      <td>주식시장 활성화 및 소액 개미 투자자 보호</td>\n",
       "      <td>우리 나라 코스피 시총이 미국 애플보다 작다는 설이 돌 정도로 한국의 주식시장은 저...</td>\n",
       "      <td>[주식시장, 활성화, 및, 소액, 개미, 투자자, 보호]</td>\n",
       "      <td>[우리, 나라, 코스피, 총, 미국, 애플, 설, 돌, 정도, 한국, 주식시장, 평...</td>\n",
       "      <td>[주식시장, 활성화, 및, 소액, 개미, 투자자, 보호, 우리, 나라, 코스피, 총...</td>\n",
       "    </tr>\n",
       "    <tr>\n",
       "      <th>2</th>\n",
       "      <td>2020-01-02</td>\n",
       "      <td>2020-02-01</td>\n",
       "      <td>198</td>\n",
       "      <td>교정기관의 민낮</td>\n",
       "      <td>억울한 일로 국민청원을 신청합니다    저는  구치소  교도관입니다    2015 ...</td>\n",
       "      <td>[교정, 기관, 의, 민낮]</td>\n",
       "      <td>[일로, 국민, 청원, 신청, 저, 구치소, 교도관, 이주, 전, 구치소, 독, 거...</td>\n",
       "      <td>[교정, 기관, 의, 민낮, 일로, 국민, 청원, 신청, 저, 구치소, 교도관, 이...</td>\n",
       "    </tr>\n",
       "    <tr>\n",
       "      <th>3</th>\n",
       "      <td>2020-01-02</td>\n",
       "      <td>2020-02-01</td>\n",
       "      <td>170</td>\n",
       "      <td>미세먼지 저감 대책</td>\n",
       "      <td>미세먼지의 심각성은 이제 적극적인 대안을 요구 하고 있습니다  우리 일상에서 가장 ...</td>\n",
       "      <td>[미세먼지, 저, 감, 대책]</td>\n",
       "      <td>[미세먼지, 심각, 성은, 이제, 적극, 대안, 요구, 우리, 일상, 가장, 적극,...</td>\n",
       "      <td>[미세먼지, 저, 감, 대책, 미세먼지, 심각, 성은, 이제, 적극, 대안, 요구,...</td>\n",
       "    </tr>\n",
       "    <tr>\n",
       "      <th>4</th>\n",
       "      <td>2020-01-02</td>\n",
       "      <td>2020-02-01</td>\n",
       "      <td>2,127</td>\n",
       "      <td>악질세입자 방지를 위한 세입자보호법을 재정해주세요</td>\n",
       "      <td>저는 우선 아이셋의 부모입니다  식구가 많은편이고 아이들이 성장함에 따라 집이 좁아...</td>\n",
       "      <td>[악질, 세, 입자, 방지, 를, 위, 한, 세, 입자, 보호, 법, 을, 재정, ...</td>\n",
       "      <td>[저, 우선, 아이, 셋, 부모, 식구, 편이, 아이, 집, 나름, 꿈, 가지, 좀...</td>\n",
       "      <td>[악질, 세, 입자, 방지, 를, 위, 한, 세, 입자, 보호, 법, 을, 재정, ...</td>\n",
       "    </tr>\n",
       "  </tbody>\n",
       "</table>\n",
       "</div>"
      ],
      "text/plain": [
       "        start         end category  \\\n",
       "0  2020-01-02  2020-02-01      267   \n",
       "1  2020-01-02  2020-02-01      271   \n",
       "2  2020-01-02  2020-02-01      198   \n",
       "3  2020-01-02  2020-02-01      170   \n",
       "4  2020-01-02  2020-02-01    2,127   \n",
       "\n",
       "                                               title  \\\n",
       "0  서울지방병무청 탈의실에 설치된  에 대한 진상규명을 요구한다  또한 인권위의 미온적...   \n",
       "1                            주식시장 활성화 및 소액 개미 투자자 보호   \n",
       "2                                           교정기관의 민낮   \n",
       "3                                         미세먼지 저감 대책   \n",
       "4                       악질세입자 방지를 위한 세입자보호법을 재정해주세요    \n",
       "\n",
       "                                             content  \\\n",
       "0  본인은 2019년 8월 경 서울지방병무청 제1검사장 탈의실에서 믿을 수 없는 것을 ...   \n",
       "1  우리 나라 코스피 시총이 미국 애플보다 작다는 설이 돌 정도로 한국의 주식시장은 저...   \n",
       "2  억울한 일로 국민청원을 신청합니다    저는  구치소  교도관입니다    2015 ...   \n",
       "3  미세먼지의 심각성은 이제 적극적인 대안을 요구 하고 있습니다  우리 일상에서 가장 ...   \n",
       "4  저는 우선 아이셋의 부모입니다  식구가 많은편이고 아이들이 성장함에 따라 집이 좁아...   \n",
       "\n",
       "                                         title_token  \\\n",
       "0  [서울, 지방, 병무청, 탈의실, 에, 설치, 된, 에, 대한, 진상, 규명, 을,...   \n",
       "1                    [주식시장, 활성화, 및, 소액, 개미, 투자자, 보호]   \n",
       "2                                    [교정, 기관, 의, 민낮]   \n",
       "3                                   [미세먼지, 저, 감, 대책]   \n",
       "4  [악질, 세, 입자, 방지, 를, 위, 한, 세, 입자, 보호, 법, 을, 재정, ...   \n",
       "\n",
       "                                       content_token  \\\n",
       "0  [본인, 경, 서울, 지방, 병무청, 제, 검사, 탈의실, 수, 것, 발견, 탈의실...   \n",
       "1  [우리, 나라, 코스피, 총, 미국, 애플, 설, 돌, 정도, 한국, 주식시장, 평...   \n",
       "2  [일로, 국민, 청원, 신청, 저, 구치소, 교도관, 이주, 전, 구치소, 독, 거...   \n",
       "3  [미세먼지, 심각, 성은, 이제, 적극, 대안, 요구, 우리, 일상, 가장, 적극,...   \n",
       "4  [저, 우선, 아이, 셋, 부모, 식구, 편이, 아이, 집, 나름, 꿈, 가지, 좀...   \n",
       "\n",
       "                                         token_final  \n",
       "0  [서울, 지방, 병무청, 탈의실, 에, 설치, 된, 에, 대한, 진상, 규명, 을,...  \n",
       "1  [주식시장, 활성화, 및, 소액, 개미, 투자자, 보호, 우리, 나라, 코스피, 총...  \n",
       "2  [교정, 기관, 의, 민낮, 일로, 국민, 청원, 신청, 저, 구치소, 교도관, 이...  \n",
       "3  [미세먼지, 저, 감, 대책, 미세먼지, 심각, 성은, 이제, 적극, 대안, 요구,...  \n",
       "4  [악질, 세, 입자, 방지, 를, 위, 한, 세, 입자, 보호, 법, 을, 재정, ...  "
      ]
     },
     "execution_count": 118,
     "metadata": {},
     "output_type": "execute_result"
    }
   ],
   "source": [
    "df.head()"
   ]
  },
  {
   "cell_type": "code",
   "execution_count": 124,
   "id": "74bb20fb-e9d2-484f-a73c-e9336fe71099",
   "metadata": {},
   "outputs": [
    {
     "name": "stdout",
     "output_type": "stream",
     "text": [
      "start            object\n",
      "end              object\n",
      "category         object\n",
      "title            object\n",
      "content          object\n",
      "title_token      object\n",
      "content_token    object\n",
      "token_final      object\n",
      "count             int64\n",
      "dtype: object\n"
     ]
    }
   ],
   "source": [
    "df['token_final'] = df.title_token + df.content_token\n",
    "df['count'] = df[\"category\"].replace({\",\":\"\"}, regex=True).apply(lambda x : int(x))\n",
    "print(df.dtypes)"
   ]
  },
  {
   "cell_type": "code",
   "execution_count": 125,
   "id": "85afbd82-1e8e-4a8a-89ba-fb4248879296",
   "metadata": {},
   "outputs": [],
   "source": [
    "df[\"label\"] = df[\"count\"].apply(lambda x: \"Yes\" if x>=1000 else \"No\")"
   ]
  },
  {
   "cell_type": "code",
   "execution_count": 126,
   "id": "eab22b7d-1297-4612-838b-c23716befa9e",
   "metadata": {},
   "outputs": [],
   "source": [
    "df_drop = df[[\"token_final\",\"label\"]]"
   ]
  },
  {
   "cell_type": "markdown",
   "id": "12e60f96-90d6-4051-9088-8c6661fc10e6",
   "metadata": {},
   "source": [
    "### 단어임베딩"
   ]
  },
  {
   "cell_type": "code",
   "execution_count": 141,
   "id": "54cf7d23-2cd2-4ae4-bca9-3de04148653a",
   "metadata": {},
   "outputs": [
    {
     "name": "stdout",
     "output_type": "stream",
     "text": [
      "Word2Vec(vocab=44424, vector_size=100, alpha=0.025)\n",
      "[('음주', 0.8832599520683289), ('뺑소니', 0.8329351544380188), ('무면허', 0.8204187154769897), ('강력범죄', 0.774462103843689), ('살인자', 0.7694199085235596), ('살인죄', 0.7628235220909119), ('전과자', 0.7483433485031128), ('운전자', 0.7382883429527283), ('승자', 0.7381764650344849), ('윤창', 0.728901207447052)]\n"
     ]
    }
   ],
   "source": [
    "from gensim.models import Word2Vec\n",
    "\n",
    "embedding_model = Word2Vec(df_drop[\"token_final\"], sg=1, vector_size=100, window=2, min_count=1, workers=4) # sg=1 : Skip-Gram, sg=0 : CBOW\n",
    "print(embedding_model)\n",
    "\n",
    "model_result = embedding_model.wv.most_similar(\"음주운전\")\n",
    "print(model_result)"
   ]
  },
  {
   "cell_type": "markdown",
   "id": "079eabe7-cb64-4802-9464-9cc6c09cb1f9",
   "metadata": {},
   "source": [
    "### 임베딩 모델 저장 및 로드"
   ]
  },
  {
   "cell_type": "code",
   "execution_count": 145,
   "id": "44ef284b-3ca8-42c2-8881-d28544c64489",
   "metadata": {},
   "outputs": [],
   "source": [
    "from gensim.models import KeyedVectors\n",
    "\n",
    "embedding_model.wv.save_word2vec_format('../model/petitions_tokens_w2v')\n",
    "\n",
    "loaded_model = KeyedVectors.load_word2vec_format(\"../model/petitions_tokens_w2v\")\n",
    "\n",
    "model_result = loaded_model.most_similar(\"음주운전\")"
   ]
  },
  {
   "cell_type": "markdown",
   "id": "cb7c9d72-31da-4871-be35-987ec6a95c36",
   "metadata": {},
   "source": [
    "### 데이터셋 분할 및 저장"
   ]
  },
  {
   "cell_type": "code",
   "execution_count": 146,
   "id": "2f702739-7cfb-4518-b892-05c2736cfda8",
   "metadata": {},
   "outputs": [],
   "source": [
    "from numpy.random import RandomState\n",
    "\n",
    "rng = RandomState()\n",
    "\n",
    "tr = df_drop.sample(frac=0.8, random_state=rng)\n",
    "val = df_drop.loc[~df_drop.index.isin(tr.index)]\n",
    "\n",
    "tr.to_csv('../data/petition_train.csv', index=False, encoding=\"utf-8-sig\")\n",
    "val.to_csv('../data/petition_validation.csv', index=False, encoding=\"utf-8-sig\")"
   ]
  },
  {
   "cell_type": "markdown",
   "id": "db999506-d0da-433e-bc4c-cf4cb387882f",
   "metadata": {},
   "source": [
    "### Field 클래스 정의"
   ]
  },
  {
   "cell_type": "code",
   "execution_count": 165,
   "id": "ae15a923-cdb7-4408-973d-36a5dac5359d",
   "metadata": {},
   "outputs": [],
   "source": [
    "import torchtext\n",
    "from torchtext.legacy.data import Field # 추상화, iterater, 토크나이징, 단어장 생성기능 제공\n",
    "\n",
    "def tokenizer(text):\n",
    "    text = re.sub(\"[\\[\\]\\']\",\"\",str(text))\n",
    "    text = text.split(', ')\n",
    "    return text\n",
    "\n",
    "TEXT = Field(tokenize = tokenizer)\n",
    "LABEL = Field(sequential = False)"
   ]
  },
  {
   "cell_type": "markdown",
   "id": "27190f62-2cb1-43d2-a88e-58e55048a841",
   "metadata": {},
   "source": [
    "### 데이터 불러오기"
   ]
  },
  {
   "cell_type": "code",
   "execution_count": 193,
   "id": "407b1f48-bfc6-482c-8281-f372b60d81cc",
   "metadata": {},
   "outputs": [
    {
     "name": "stdout",
     "output_type": "stream",
     "text": [
      "Train: ['이제', '직원', '들', '에게', '사직', '을', '권고', '하려', '합니다', '이제', '직원', '권고사직', '저', '아내', '행업', '주로', '해외', '용역', '중심', '사업', '추진', '결과', '창업', '지방', '소재', '여행사', '로서', '나라장터', '통', '학교', '공공기관', '꽤', '수주', '이', '부문', '인정', '코로나', '사태', '여파', '지난', '이후', '모든', '수주', '취소', '현재', '신규', '수주', '직원', '해고', '수', '사정', '정부', '특별', '고용', '안정', '원금', '지난', '개', '월간', '직원', '모두', '유급', '휴직', '저', '아내', '둘이서', '사무실', '출근', '사업', '모색', '해', '그동안', '사무실', '임차료', '사무실', '이전', '개월', '인건비', '회사', '부담', '액', '사무실', '임차료', '각종', '사무실', '회사', '유지', '공과금', '세금', '등', '소상', '공인', '긴급', '대출', '금도', '모두', '소진', '상태', '더', '수', '상황', '정부', '고용', '안정', '원금', '개월', '더', '국외여행', '업', '재개', '기약', '상황', '고용', '유지', '것', '이상', '직원', '급여', '부담', '보험료', '무기', '퇴직금', '충당금', '감안', '때', '감당', '직원', '개월', '연장', '기대', '줄', '알', '직원', '권고사직', '후', '실업', '급여', '수령', '모색', '해', '보라', '것', '그동안', '정부', '고용', '률', '유', '위', '막대', '예산', '투여', '고용', '유지', '원금', '제도', '행업', '근로자', '도움', '조치', '영주', '입장', '사업', '재개', '언제', '상황', '비용', '계속', '상황', '폐업', '모든', '비용', '최소', '휴업', '거나', '직원', '모두', '함', '개월', '연장', '기대', '직원', '수', '처지', '주간', '갈등', '야기', '근로자', '지원', '것', '여행', '업종', '회사', '영주', '지원이', '절실', '첫째', '고용', '유지', '계속', '회사', '유지', '비용', '지원', '상공', '지원', '여행', '업종', '경우', '다수', '직원', '고용', '중소기업', '회사', '유지비', '용도', '지원', '생각', '그동안', '영업', '해', '다가', '정부', '집합', '금지명령', '대규모', '유흥주점', '재난', '원금', '상황', '행업', '초기', '선제', '이제', '정부', '업종', '것', '그', '그동안', '영업', '해', '다가', '정부', '집합', '금지명령', '대규모', '유흥주점', '재난', '원금', '상황', '아예', '영업', '행업', '상공', '지원', '고', '둘째', '경영', '주의', '생계', '지원', '해', '수', '주로', '공공기관', '지자체', '예산', '수행', '사업', '수주', '저희', '회사', '경우', '용역', '대금', '중', '선금', '전용', '위해', '법인', '선호', '기관', '법인', '사업자', '창업', '아내', '대표이사', '저', '상근', '등기', '이사', '재직', '중', '이번', '코로나', '사태', '회사', '임원', '급여', '지급', '능력', '저희', '집의', '소득', '이후', '고용', '보험', '지대', '코로나', '영향', '그다지', '보험', '골프', '캐디', '배달', '종', '사원', '소득', '조금', '감소', '계속', '재난', '원금', '국민', '고용', '보험', '추진', '저희', '가족', '중심', '법인', '회사', '경우', '영주', '그', '가족', '고용', '보험', '가입', '지원', '수가', '이제', '생계', '걱정', '연말', '신규', '사업', '추진', '성과', '모든', '일', '아르바이트', '자리', '상황', '저희', '회사', '폐업', '수', '사정', '저희', '실업', '급여', '실직자', '것', '즉', '고용', '오', '지대', '멀리', '창업', '실적', '연간', '억', '예산', '회사', '이', '위기', '위기', '부디', '행업', '대한', '정책', '대책', '바'] Yes\n",
      "validation: ['서울', '지방', '병무청', '탈의실', '에', '설치', '된', '에', '대한', '진상', '규명', '을', '요구', '한', '다', '또한', '인권위', '의', '미온', '적', '대응', '을', '규탄', '한다', '본인', '경', '서울', '지방', '병무청', '제', '검사', '탈의실', '수', '것', '발견', '탈의실', '천장', '를', '발견', '것', '본인', '이', '경악', '탈의실', '를', '설치', '것', '개인정보보호법', '항', '위반', '사안', '법적', '문제', '촬영', '성폭력', '범죄', '처벌', '등', '관', '특례법', '항', '위반', '또한', '법적', '제일', '뿐', '개인', '자유', '침해', '성적', '수치심', '매우', '윤리', '문제', '불법', '카메라', '그', '자체', '문제', '공공기관', '탈의실', '불법', '비', '윤리', '카메라', '설치', '운영', '상황', '발생', '도대체', '한국', '정부', '인권', '무엇', '생각', '것', '발견', '직후', '인권위', '진정', '인권위', '현재', '조사', '진행', '답변', '병무청', '답변', '더', '이상', '답변', '것', '의미', '생각', '본인', '모', '커뮤니티', '이', '사실', '이후', '이슈', '화가', '병무청', '운영', '대답', '이', '대한', '조사', '경과', '발표', '사과', '책임', '대응', '전혀', '개인', '자유', '권리', '본질', '내용', '침해', '강제', '징집', '국제노동기구', '인정', '강제', '징용', '강제노동', '남성', '국가', '신체', '감시', '사건', '한국', '정부', '병역의무', '인권', '생각', '언제', '국가', '개인', '노예', '취급', '것', '백원', '시급', '강제', '폭력', '속', '것', '모자라', '이제', '어처구니', '일', '것', '경악', '수', '이', '본인', '위', '사실', '규탄', '아래', '대응', '요구', '서울', '지방', '병무청', '징병검사', '소', '탈의실', '설치', '경위', '운영', '여부', '관리', '역', '등', '대해', '낱낱이', '조사', '그', '진상', '병무청장', '지방', '병무청장', '이', '사건', '책임', '지고', '사퇴', '하라', '자진사퇴', '거부', '정부', '이', '파면', '이', '사건', '관련', '책임자', '담당자', '처벌', '병무', '정장', '명의', '사과문', '병무청', '사이트', '비롯', '온라인과', '전국', '신체검사', '소', '신체검사', '대상', '그', '사과', '내용', '알게', '사과', '내용', '조사', '경과', '언론', '배포', '이유', '인권위', '위', '민원', '무시', '조사', '책임자', '문책', '병무청', '제보자', '민원', '보복', '감시', '제보자', '민원', '적극', '보호', '한국', '정부', '남성', '강제', '징집', '강제노동', '대해', '최저임금', '배', '이상', '시급', '지급', '내', '현재', '징병제', '개혁', '강제', '징집', '강제', '징용', '강제노동', '폐지', '또한', '지금', '강제', '피해', '당한', '당사자', '사과', '합당', '피해', '보상금', '제공', '각주', '개인정보보호법', '제', '항', '제', '영상', '정보처리', '기기', '설치', '운영', '제한', '누구', '불', '특정', '다수', '이용', '목욕실', '화장실', '발', '한실', '탈의실', '등', '개인', '사생활', '현저', '침해', '우려', '장소', '내부', '볼', '수', '영상', '정보처리', '기기', '설치', '운영', '다만', '교도소', '정신', '보건', '시설', '등', '법령', '근거', '사람', '구금', '거나', '보호', '시설', '로서', '대통령령', '정', '시설', '대하', '여', '각주', '개인정보보호법', '제', '과태료', '항', '호', '다음', '각', '호의', '하나', '해당', '자', '이하', '과태료', '부과', '제', '항', '위반', '영상', '정보처리', '기기', '설치', '운영', '자', '각주', '성폭력', '범죄', '처벌', '등', '관', '특례법', '제', '카메라', '등', '이용', '촬영', '항', '카메라', '그', '이', '기능', '기계', '장치', '이용', '성적', '욕망', '수치심', '유발', '수', '사람', '신체', '촬영', '대상자', '의사', '촬영', '이하', '징역', '이하', '벌금', '처', '개정', '각주', '국제노동기구', '제', '호', '강제', '근로', '협약', '제', '호', '강제', '근로', '폐지', '협약', '제', '호', '정치', '견해', '기존', '정치', '사회', '제도', '사상', '반대', '견해', '발표', '것', '대한', '제재', '및', '정치', '억압', '교육', '수단', '나', '발전', '목적', '노동', '동원', '이용', '경우', '노동', '규제', '수단', '파업', '참가', '대한', '제재', '마', '인종', '사회', '민족', '종교', '차별', '대우', '수단'] No\n"
     ]
    }
   ],
   "source": [
    "from torchtext.legacy.data import TabularDataset\n",
    "\n",
    "train, validation = TabularDataset.splits(path = \"../data/\", train = \"petition_train.csv\",validation = \"petition_validation.csv\",\n",
    "                                          format=\"csv\",fields=[(\"text\",TEXT), (\"label\",LABEL)], skip_header = True)\n",
    "\n",
    "print(\"Train:\", train[0].text, train[0].label)\n",
    "print(\"validation:\", validation[0].text, validation[0].label)"
   ]
  },
  {
   "cell_type": "markdown",
   "id": "d0f27714-bffe-4bd0-9e7c-eadcd093f078",
   "metadata": {},
   "source": [
    "### 단어장 및 DataLoader 정의"
   ]
  },
  {
   "cell_type": "code",
   "execution_count": 204,
   "id": "687060c4-0ad8-4d21-9dac-3e7ffb959f95",
   "metadata": {},
   "outputs": [
    {
     "name": "stdout",
     "output_type": "stream",
     "text": [
      "임베딩 벡터의 개수와 차원: torch.Size([40641, 100])\n"
     ]
    }
   ],
   "source": [
    "import torch\n",
    "from torchtext.vocab import Vectors # 임베딩 벡터를 만들기위한 클래스\n",
    "from torchtext.legacy.data import BucketIterator # 배치사이즈 만큼 데이터를 로드하는 iterator\n",
    "\n",
    "vectors = Vectors(name='../model/petitions_tokens_w2v')\n",
    "\n",
    "TEXT.build_vocab(train, vectors=vectors, min_freq=1, max_size=None) # 단어장 만들기, 최소 등장횟수, 전체 사이즈 제한\n",
    "LABEL.build_vocab(train)\n",
    "\n",
    "vocab = TEXT.vocab\n",
    "\n",
    "device = torch.device(\"cuda\" if torch.cuda.is_available() else \"cpu\")\n",
    "\n",
    "train_iter, validation_iter = BucketIterator.splits(datasets=(train,validation), batch_size=32, device = device, sort=False)\n",
    "\n",
    "print(\"임베딩 벡터의 개수와 차원: {}\".format(TEXT.vocab.vectors.shape))"
   ]
  },
  {
   "cell_type": "markdown",
   "id": "6c4ea952-fe02-4580-9cd0-9421d3ea2f64",
   "metadata": {},
   "source": [
    "### TextCNN 모델 설계"
   ]
  },
  {
   "cell_type": "code",
   "execution_count": 224,
   "id": "89494ead-5709-4def-a71f-4c9df33cedd7",
   "metadata": {},
   "outputs": [],
   "source": [
    "import torch.nn as nn\n",
    "import torch.optim as optim\n",
    "import torch.nn.functional as F\n",
    "\n",
    "class TextCNN(nn.Module):\n",
    "    \n",
    "    def __init__(self, vocab_built, emb_dim, dim_channel, kernel_wins, num_class):\n",
    "        \n",
    "        super(TextCNN, self).__init__()\n",
    "        self.embed = nn.Embedding(len(vocab_built), emb_dim)\n",
    "        self.embed.weight.data.copy_(vocab_built.vectors)\n",
    "        self.convs = nn.ModuleList([nn.Conv1d(1, dim_channel, (w, emb_dim)) for w in kernel_wins])\n",
    "        self.relu = nn.ReLU()\n",
    "        self.Dropout = nn.Dropout(0.4)\n",
    "        self.fc = nn.Linear(len(kernel_wins)*dim_channel, num_class)\n",
    "        \n",
    "    def forward(self, x):\n",
    "        emb_x = self.embed(x)\n",
    "        emb_x = emb_x.unsqueeze(1)\n",
    "        con_x = [self.relu(conv(emb_x)) for conv in self.convs]\n",
    "        pool_x = [F.max_pool1d(x.squeeze(-1), x.size()[2]) for x in con_x]\n",
    "        \n",
    "        fc_x = torch.cat(pool_x, dim=1)\n",
    "        fc_x = fc_x.squeeze(-1)\n",
    "        fc_x = self.Dropout(fc_x)\n",
    "        logit = self.fc(fc_x)\n",
    "        return logit"
   ]
  },
  {
   "cell_type": "markdown",
   "id": "cf111a48-7099-4954-8e01-02c3324abea9",
   "metadata": {},
   "source": [
    "### 모델 학습 함수 정의"
   ]
  },
  {
   "cell_type": "code",
   "execution_count": 225,
   "id": "e3a41edf-7d38-4fd4-a2bb-cdfc7faf7448",
   "metadata": {},
   "outputs": [],
   "source": [
    "def train(model, device, train_itr, optimizer):\n",
    "    \n",
    "    model.train()\n",
    "    corrects, train_loss = 0.0, 0\n",
    "    \n",
    "    for batch in train_itr:\n",
    "        \n",
    "        text, target = batch.text, batch.label\n",
    "        text = torch.transpose(text, 0, 1)\n",
    "        target.data.sub_(1)\n",
    "        text, target = text.to(device), target.to(device)\n",
    "        \n",
    "        optimizer.zero_grad()\n",
    "        logit = model(text)\n",
    "        loss = F.cross_entropy(logit, target)\n",
    "        loss.backward()\n",
    "        optimizer.step()\n",
    "        \n",
    "        train_loss += loss.item()\n",
    "        result = torch.max(logit,1)[1]\n",
    "        corrects += (result.view(target.size()).data == target.data).sum()\n",
    "        \n",
    "    train_loss /= len(train_itr.dataset)\n",
    "    accuracy = 100.0 * corrects / len(train_itr.dataset)\n",
    "    \n",
    "    return train_loss, accuracy"
   ]
  },
  {
   "cell_type": "markdown",
   "id": "5d3b385d-6ddd-4344-a9e1-ad67287208b0",
   "metadata": {},
   "source": [
    "### 모델 평가를 위한 함수 정의"
   ]
  },
  {
   "cell_type": "code",
   "execution_count": 226,
   "id": "245caa0e-0067-46d1-9bbd-477e4d8f965c",
   "metadata": {},
   "outputs": [],
   "source": [
    "def evaluate(model, device, itr):\n",
    "    \n",
    "    model.eval()\n",
    "    corrects, test_loss = 0.0 ,0\n",
    "    \n",
    "    for batch in itr:\n",
    "        \n",
    "        text, target = batch.text, batch.label\n",
    "        text = torch.transpose(text, 0, 1)\n",
    "        target.data.sub_(1)\n",
    "        text, target = text.to(device), target.to(device)\n",
    "        \n",
    "        logit = model(text)\n",
    "        loss = F.cross_entropy(logit, target)\n",
    "        \n",
    "        test_loss += loss.item()\n",
    "        result = torch.max(logit, 1)[1]\n",
    "        corrects += (result.view(target.size()).data == target.data).sum()\n",
    "        \n",
    "    test_loss /= len(itr.dataset)\n",
    "    accuracy = 100*corrects/len(itr.dataset)\n",
    "    \n",
    "    return test_loss, accuracy\n",
    "        "
   ]
  },
  {
   "cell_type": "markdown",
   "id": "df040d0b-5159-4a94-9e7c-65d127519a43",
   "metadata": {},
   "source": [
    "### 모델 학습 및 성능 확인"
   ]
  },
  {
   "cell_type": "code",
   "execution_count": 227,
   "id": "522fc7da-50ea-4c89-92a9-71379bdbfaad",
   "metadata": {},
   "outputs": [
    {
     "name": "stdout",
     "output_type": "stream",
     "text": [
      "TextCNN(\n",
      "  (embed): Embedding(40641, 100)\n",
      "  (convs): ModuleList(\n",
      "    (0): Conv1d(1, 10, kernel_size=(3, 100), stride=(1,))\n",
      "    (1): Conv1d(1, 10, kernel_size=(4, 100), stride=(1,))\n",
      "    (2): Conv1d(1, 10, kernel_size=(5, 100), stride=(1,))\n",
      "  )\n",
      "  (relu): ReLU()\n",
      "  (Dropout): Dropout(p=0.4, inplace=False)\n",
      "  (fc): Linear(in_features=30, out_features=2, bias=True)\n",
      ")\n",
      "Train Epoch: 1 \t Loss: 0.020739015652856924 \t Accuracy: 61.125144958496094%\n",
      "Valid Epoch: 1, \t Loss: 0.01965135616559636 \t Accuracy: 65.50299072265625%\n",
      "model saves at 65.50299072265625 accuracy\n",
      "------------------------------------------------------------------------------\n",
      "Train Epoch: 2 \t Loss: 0.01934735302467981 \t Accuracy: 66.90011596679688%\n",
      "Valid Epoch: 2, \t Loss: 0.019477819186260133 \t Accuracy: 67.34037780761719%\n",
      "model saves at 67.34037780761719 accuracy\n",
      "------------------------------------------------------------------------------\n",
      "Train Epoch: 3 \t Loss: 0.017884630909196 \t Accuracy: 71.0792236328125%\n",
      "Valid Epoch: 3, \t Loss: 0.018973222198319862 \t Accuracy: 67.75379180908203%\n",
      "model saves at 67.75379180908203 accuracy\n",
      "------------------------------------------------------------------------------\n"
     ]
    }
   ],
   "source": [
    "model = TextCNN(vocab, 100, 10, [3,4,5], 2).to(device)\n",
    "print(model)\n",
    "\n",
    "device = torch.device(\"cuda\" if torch.cuda.is_available() else \"cpu\")\n",
    "\n",
    "optimizer = optim.Adam(model.parameters(), lr=0.001)\n",
    "\n",
    "best_test_acc = -1\n",
    "\n",
    "for epoch in range(1,3+1):\n",
    "    tr_loss, tr_acc = train(model, device, train_iter, optimizer)\n",
    "    print(\"Train Epoch: {} \\t Loss: {} \\t Accuracy: {}%\".format(epoch, tr_loss, tr_acc))\n",
    "    \n",
    "    val_loss, val_acc = evaluate(model, device, validation_iter)\n",
    "    print(f\"Valid Epoch: {epoch}, \\t Loss: {val_loss} \\t Accuracy: {val_acc}%\")\n",
    "    \n",
    "    if val_acc > best_test_acc:\n",
    "        best_test_acc = val_acc\n",
    "        \n",
    "        print(\"model saves at {} accuracy\".format(best_test_acc))\n",
    "        torch.save(model.state_dict(), \"TextCNN_Best_Validation\")\n",
    "    print(\"------------------------------------------------------------------------------\")"
   ]
  },
  {
   "cell_type": "code",
   "execution_count": null,
   "id": "3b609009-891d-4c21-b5fc-3812de65acfd",
   "metadata": {},
   "outputs": [],
   "source": []
  },
  {
   "cell_type": "code",
   "execution_count": null,
   "id": "47c5d5ae-dca8-4a63-a16d-0a9e7a4745d9",
   "metadata": {},
   "outputs": [],
   "source": []
  },
  {
   "cell_type": "code",
   "execution_count": null,
   "id": "7249d322-a03b-4418-bf19-d871bfd89224",
   "metadata": {},
   "outputs": [],
   "source": []
  },
  {
   "cell_type": "code",
   "execution_count": null,
   "id": "a42e5bf6-9329-4096-905d-434f8c2ab630",
   "metadata": {},
   "outputs": [],
   "source": []
  },
  {
   "cell_type": "code",
   "execution_count": null,
   "id": "84973573-1220-4cd8-be89-7b405f84e378",
   "metadata": {},
   "outputs": [],
   "source": []
  },
  {
   "cell_type": "code",
   "execution_count": null,
   "id": "dd610ac5-da9c-45a0-b24e-781e692cae20",
   "metadata": {},
   "outputs": [],
   "source": []
  }
 ],
 "metadata": {
  "kernelspec": {
   "display_name": "ysher_yonsei",
   "language": "python",
   "name": "ysher_yonsei"
  },
  "language_info": {
   "codemirror_mode": {
    "name": "ipython",
    "version": 3
   },
   "file_extension": ".py",
   "mimetype": "text/x-python",
   "name": "python",
   "nbconvert_exporter": "python",
   "pygments_lexer": "ipython3",
   "version": "3.7.10"
  }
 },
 "nbformat": 4,
 "nbformat_minor": 5
}
