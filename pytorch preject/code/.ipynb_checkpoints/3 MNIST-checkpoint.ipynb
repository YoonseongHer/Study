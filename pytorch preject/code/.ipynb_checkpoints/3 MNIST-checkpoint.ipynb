{
 "cells": [
  {
   "cell_type": "markdown",
   "id": "4115b060-a762-4302-9b33-f760aa1f8cd6",
   "metadata": {},
   "source": [
    "## 3.2.2 CNN 손글씨 숫자 이미지 분류하기"
   ]
  },
  {
   "cell_type": "markdown",
   "id": "9e089913-1eb5-4cfb-be80-68b966b7c93c",
   "metadata": {},
   "source": [
    "### 기본 라이브러리"
   ]
  },
  {
   "cell_type": "code",
   "execution_count": 3,
   "id": "e80c159a-72e8-487c-8185-51262cbe84c7",
   "metadata": {},
   "outputs": [],
   "source": [
    "import torch\n",
    "import torch.nn as nn\n",
    "import torch.nn.functional as F\n",
    "import  torch.optim as optim\n",
    "from torchvision import datasets, transforms\n",
    "\n",
    "from matplotlib import pyplot as plt\n",
    "%matplotlib inline\n",
    "\n",
    "from matplotlib import font_manager, rc, rcParams\n",
    "font_name = font_manager.FontProperties(fname='/usr/share/fonts/truetype/nanum/NanumSquareR.ttf').get_name()\n",
    "rc('font', family=font_name)\n",
    "rcParams['axes.unicode_minus'] = False"
   ]
  },
  {
   "cell_type": "markdown",
   "id": "de1e36ee-e862-40b9-bd35-1d38789b7f57",
   "metadata": {},
   "source": [
    "### 분석 환경 설정"
   ]
  },
  {
   "cell_type": "code",
   "execution_count": 5,
   "id": "e7ea84f0-7d0c-4935-b104-09154610cba4",
   "metadata": {},
   "outputs": [
    {
     "name": "stdout",
     "output_type": "stream",
     "text": [
      "Current cuda device is cuda\n"
     ]
    }
   ],
   "source": [
    "is_cuda = torch.cuda.is_available()\n",
    "device = torch.device(\"cuda\" if is_cuda else \"cpu\")\n",
    "\n",
    "print(\"Current cuda device is\", device)"
   ]
  },
  {
   "cell_type": "markdown",
   "id": "315037a3-225d-4a27-90e0-23505812197f",
   "metadata": {},
   "source": [
    "### Hyperparameter 지정"
   ]
  },
  {
   "cell_type": "code",
   "execution_count": 7,
   "id": "bfac8a8b-11cb-4062-8efa-cb278dd1bb97",
   "metadata": {},
   "outputs": [],
   "source": [
    "batch_size = 50\n",
    "epoch_num = 15\n",
    "learning_rate = 1e-4"
   ]
  },
  {
   "cell_type": "markdown",
   "id": "ea50e150-4a53-43ed-9cbf-77853d1d6c39",
   "metadata": {},
   "source": [
    "### data import"
   ]
  },
  {
   "cell_type": "code",
   "execution_count": 10,
   "id": "e26b4a7f-02fb-4719-9842-c25ffe860238",
   "metadata": {},
   "outputs": [],
   "source": [
    "train_data = datasets.MNIST(root = './data', train = True, download = True, transform = transforms.ToTensor())\n",
    "test_data = datasets.MNIST(root = './data', train = False, transform = transforms.ToTensor())"
   ]
  },
  {
   "cell_type": "code",
   "execution_count": 11,
   "id": "7b233ab4-dac3-4714-9109-e033a2036e33",
   "metadata": {},
   "outputs": [
    {
     "name": "stdout",
     "output_type": "stream",
     "text": [
      "number of training data: 60000\n",
      "number of training data: 10000\n"
     ]
    }
   ],
   "source": [
    "print(\"number of training data:\", len(train_data))\n",
    "print(\"number of training data:\", len(test_data))"
   ]
  },
  {
   "cell_type": "code",
   "execution_count": 13,
   "id": "bdd3aa62-a546-48de-adfb-5afc7a633623",
   "metadata": {},
   "outputs": [
    {
     "data": {
      "image/png": "[encoded data removed]",
      "text/plain": [
       "<Figure size 432x288 with 1 Axes>"
      ]
     },
     "metadata": {
      "needs_background": "light"
     },
     "output_type": "display_data"
    }
   ],
   "source": [
    "image, label = train_data[0]\n",
    "plt.imshow(image.squeeze().numpy(), cmap=\"gray\")\n",
    "plt.title(\"label : %s\" % label)\n",
    "plt.show()"
   ]
  },
  {
   "cell_type": "markdown",
   "id": "00c94bf9-3440-49e4-904f-baab3cb0c9be",
   "metadata": {},
   "source": [
    "### 미니 배치 구성하기"
   ]
  },
  {
   "cell_type": "code",
   "execution_count": 27,
   "id": "30fcc8c4-0732-4142-96f1-1ba3c6b2635f",
   "metadata": {},
   "outputs": [
    {
     "name": "stdout",
     "output_type": "stream",
     "text": [
      "name            | type                      | size\n",
      "Num of Batch    |                           | 1200\n",
      "first_batch     | <class 'list'>            | 2\n",
      "first_batch[0]  | <class 'torch.Tensor'>    | torch.Size([50, 1, 28, 28])\n",
      "first_batch[1]  | <class 'torch.Tensor'>    | torch.Size([50, 1, 28, 28])\n"
     ]
    }
   ],
   "source": [
    "train_loader = torch.utils.data.DataLoader(dataset = train_data, batch_size = batch_size, shuffle = True)\n",
    "test_loader = torch.utils.data.DataLoader(dataset = test_data, batch_size = batch_size, shuffle = True)\n",
    "\n",
    "first_batch = train_loader.__iter__().__next__()\n",
    "print(\"{:15s} | {:<25} | {}\".format(\"name\",\"type\",\"size\"))\n",
    "print(\"{:15s} | {:<25} | {}\".format(\"Num of Batch\",\"\",len(train_loader)))\n",
    "print(\"{:15s} | {:<25} | {}\".format('first_batch',str(type(first_batch)),len(frist_batch)))\n",
    "print(\"{:15s} | {:<25} | {}\".format(\"first_batch[0]\", str(type(first_batch[0])),first_batch[0].shape))\n",
    "print(\"{:15s} | {:<25} | {}\".format(\"first_batch[1]\", str(type(first_batch[1])),first_batch[0].shape))"
   ]
  },
  {
   "cell_type": "markdown",
   "id": "594311bb-3b80-467c-92f1-3d6e3a1ab0a5",
   "metadata": {},
   "source": [
    "### model design"
   ]
  },
  {
   "cell_type": "code",
   "execution_count": 35,
   "id": "fd916507-d68f-4c8a-ac17-1c8753eb75b2",
   "metadata": {},
   "outputs": [],
   "source": [
    "class CNN(nn.Module):\n",
    "    def __init__(self):\n",
    "        super(CNN, self).__init__()\n",
    "        self.conv1 = nn.Conv2d(1,32,3,1)\n",
    "        self.conv2 = nn.Conv2d(32, 64, 3, 1)\n",
    "        self.dropout1 = nn.Dropout2d(0.25)\n",
    "        self.dropout2 = nn.Dropout2d(0.5)\n",
    "        self.fc1 = nn.Linear(9216,128)\n",
    "        self.fc2 = nn.Linear(128, 10)\n",
    "    \n",
    "    def forward(self, x):\n",
    "        x = self.conv1(x)\n",
    "        x = F.relu(x)\n",
    "        x = self.conv2(x)\n",
    "        x = F.max_pool2d(x,2)\n",
    "        x = self.dropout1(x)\n",
    "        x = torch.flatten(x,1)\n",
    "        x = self.fc1(x)\n",
    "        x = F.relu(x)\n",
    "        x = self.dropout2(x)\n",
    "        x = self.fc2(x)\n",
    "        output = F.log_softmax(x,dim=1)\n",
    "        return output"
   ]
  },
  {
   "cell_type": "markdown",
   "id": "a7613a2e-70a4-4456-b305-6b76d26a310f",
   "metadata": {},
   "source": [
    "### optimizer, loss function define"
   ]
  },
  {
   "cell_type": "code",
   "execution_count": 36,
   "id": "6fe921d6-5361-4fa1-98f5-ff2d083cbeae",
   "metadata": {},
   "outputs": [],
   "source": [
    "model = CNN().to(device)\n",
    "optimizer = optim.Adam(model.parameters(), lr = learning_rate)\n",
    "criterion = nn.CrossEntropyLoss()"
   ]
  },
  {
   "cell_type": "code",
   "execution_count": 37,
   "id": "568c37bb-d9e9-42d9-908c-c0494301278d",
   "metadata": {},
   "outputs": [
    {
     "name": "stdout",
     "output_type": "stream",
     "text": [
      "CNN(\n",
      "  (conv1): Conv2d(1, 32, kernel_size=(3, 3), stride=(1, 1))\n",
      "  (conv2): Conv2d(32, 64, kernel_size=(3, 3), stride=(1, 1))\n",
      "  (dropout1): Dropout2d(p=0.25, inplace=False)\n",
      "  (dropout2): Dropout2d(p=0.5, inplace=False)\n",
      "  (fc1): Linear(in_features=9216, out_features=128, bias=True)\n",
      "  (fc2): Linear(in_features=128, out_features=10, bias=True)\n",
      ")\n"
     ]
    }
   ],
   "source": [
    "print(model)"
   ]
  },
  {
   "cell_type": "markdown",
   "id": "6d877270-6e72-4b4b-84d4-dfd2c0d889f9",
   "metadata": {},
   "source": [
    "### model learning"
   ]
  },
  {
   "cell_type": "code",
   "execution_count": 39,
   "id": "6902541a-e91a-4bfe-a3f0-e7fea1612b3f",
   "metadata": {},
   "outputs": [
    {
     "name": "stdout",
     "output_type": "stream",
     "text": [
      "Train Step: 0\\Total_Loss: 2.294\n",
      "Train Step: 1000\\Total_Loss: 0.434\n",
      "Train Step: 2000\\Total_Loss: 0.139\n",
      "Train Step: 3000\\Total_Loss: 0.204\n",
      "Train Step: 4000\\Total_Loss: 0.093\n",
      "Train Step: 5000\\Total_Loss: 0.344\n",
      "Train Step: 6000\\Total_Loss: 0.090\n",
      "Train Step: 7000\\Total_Loss: 0.090\n",
      "Train Step: 8000\\Total_Loss: 0.089\n",
      "Train Step: 9000\\Total_Loss: 0.074\n",
      "Train Step: 10000\\Total_Loss: 0.017\n",
      "Train Step: 11000\\Total_Loss: 0.173\n",
      "Train Step: 12000\\Total_Loss: 0.012\n",
      "Train Step: 13000\\Total_Loss: 0.075\n",
      "Train Step: 14000\\Total_Loss: 0.046\n",
      "Train Step: 15000\\Total_Loss: 0.007\n",
      "Train Step: 16000\\Total_Loss: 0.043\n",
      "Train Step: 17000\\Total_Loss: 0.044\n"
     ]
    }
   ],
   "source": [
    "model.train()\n",
    "i = 0\n",
    "for epoch in range(epoch_num):\n",
    "    for data, target in train_loader:\n",
    "        data = data.to(device)\n",
    "        target = target.to(device)\n",
    "        \n",
    "        optimizer.zero_grad()\n",
    "        output = model(data)\n",
    "        loss = criterion(output, target)\n",
    "        loss.backward()\n",
    "        optimizer.step()\n",
    "        if i % 1000 == 0:\n",
    "            print(\"Train Step: {}\\Total_Loss: {:.3f}\".format(i, loss.item()))\n",
    "        i += 1"
   ]
  },
  {
   "cell_type": "markdown",
   "id": "c8f6dcd4-fc62-44d9-a7a3-bba4c68023d5",
   "metadata": {},
   "source": [
    "### model evaluation"
   ]
  },
  {
   "cell_type": "code",
   "execution_count": 42,
   "id": "5ee9631d-80c4-4adc-96f8-316dfdacd6ef",
   "metadata": {},
   "outputs": [
    {
     "name": "stdout",
     "output_type": "stream",
     "text": [
      "Test set: Accuracy: 98.83%\n"
     ]
    }
   ],
   "source": [
    "model.eval()\n",
    "correct = 0\n",
    "for data, target in test_loader:\n",
    "    data = data.to(device)\n",
    "    target = target.to(device)\n",
    "    \n",
    "    output = model(data)\n",
    "    prediction = output.data.max(1)[1]\n",
    "    correct += prediction.eq(target.data).sum()\n",
    "    \n",
    "print(\"Test set: Accuracy: {:.2f}%\".format(100 * correct / len(test_loader.dataset)))"
   ]
  }
 ],
 "metadata": {
  "kernelspec": {
   "display_name": "ysher_yonsei",
   "language": "python",
   "name": "ysher_yonsei"
  },
  "language_info": {
   "codemirror_mode": {
    "name": "ipython",
    "version": 3
   },
   "file_extension": ".py",
   "mimetype": "text/x-python",
   "name": "python",
   "nbconvert_exporter": "python",
   "pygments_lexer": "ipython3",
   "version": "3.7.10"
  }
 },
 "nbformat": 4,
 "nbformat_minor": 5
}
