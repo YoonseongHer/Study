{
 "cells": [
  {
   "cell_type": "markdown",
   "id": "2fe9d09c-bb16-411a-935c-ad05326531c0",
   "metadata": {},
   "source": [
    "# 실제 사진 애니메이션으로 만들기"
   ]
  },
  {
   "cell_type": "code",
   "execution_count": 1,
   "id": "5637312f-6366-4581-b98a-a588081da465",
   "metadata": {},
   "outputs": [],
   "source": [
    "import glob\n",
    "import random\n",
    "import os\n",
    "from torch.utils.data import Dataset, DataLoader\n",
    "from PIL import Image \n",
    "import torchvision.transforms as transforms\n",
    "import sys\n",
    "import torch.nn as nn\n",
    "import torch.nn.functional as F\n",
    "import torch\n",
    "import numpy as np\n",
    "import math\n",
    "import itertools\n",
    "import datetime\n",
    "import time\n",
    "from torchvision.utils import save_image, make_grid\n",
    "from torchvision import datasets\n",
    "from torch.autograd import Variable"
   ]
  },
  {
   "cell_type": "markdown",
   "id": "def1bbb2-893d-4440-a031-ecac6a92e618",
   "metadata": {},
   "source": [
    "### 흑백이미지를 RGB 이미지로 바꾸는 함수"
   ]
  },
  {
   "cell_type": "code",
   "execution_count": 2,
   "id": "52239dc4-1150-4fbe-a82b-83c20d9c6c7b",
   "metadata": {},
   "outputs": [],
   "source": [
    "def to_rgb(image):\n",
    "    rgb_image = Image.new(\"RGB\", image.size)\n",
    "    rgb_image.paste(image)\n",
    "    return rgb_image"
   ]
  },
  {
   "cell_type": "markdown",
   "id": "ce0416ef-4fe9-4200-a0cb-d6c0c0f4be46",
   "metadata": {},
   "source": [
    "### 사용자 정의 데이터셋 클래스 정의"
   ]
  },
  {
   "cell_type": "code",
   "execution_count": 3,
   "id": "6466c7b2-5e27-4995-900c-e22f6dc1fa7a",
   "metadata": {},
   "outputs": [],
   "source": [
    "class ImageDataset(Dataset):\n",
    "    \n",
    "    def __init__(self, root, transforms_=None, unaligned=False, mode=\"train\"):\n",
    "        self.transform = transforms.Compose(transforms_)\n",
    "        self.unaligned = unaligned\n",
    "        \n",
    "        if mode==\"train\":\n",
    "            self.files_A = sorted(glob.glob(os.path.join(root, \"trainA\" + \"/*.*\")))\n",
    "            self.files_B = sorted(glob.glob(os.path.join(root, \"trainB\" + \"/*.*\")))\n",
    "        \n",
    "        else:\n",
    "            self.files_A = sorted(glob.glob(os.path.join(root, \"testA\" + \"/*.*\")))\n",
    "            self.files_B = sorted(glob.glob(os.path.join(root, \"testB\" + \"/*.*\")))\n",
    "    \n",
    "    def __getitem__(self, index):\n",
    "        image_A = Image.open(self.files_A[index % len(self.files_A)])\n",
    "        \n",
    "        if self.unaligned: # 학습할 쌍을 랜덤으로 정할 지 고정할지\n",
    "            image_B = Image.open(self.files_B[random.randint(0,len(self.files_B)-1)])\n",
    "        else:\n",
    "            image_B = Image.open(self.files_B[index % len(self.files_B)])\n",
    "            \n",
    "        if image_A.mode != \"RGB\":\n",
    "            image_A = to_rgb(image_A)\n",
    "        \n",
    "        if image_B.mode != \"RGB\":\n",
    "            image_B = to_rgb(image_B)\n",
    "            \n",
    "        item_A = self.transform(image_A)\n",
    "        item_B = self.transform(image_B)\n",
    "        return {\"A\": item_A, \"B\": item_B}\n",
    "    \n",
    "    def __len__(self):\n",
    "        return max(len(self.files_A), len(self.files_B))"
   ]
  },
  {
   "cell_type": "markdown",
   "id": "eb743e00-4403-46f1-83a8-f8bf0079fb2b",
   "metadata": {},
   "source": [
    "## Generator 구현"
   ]
  },
  {
   "cell_type": "markdown",
   "id": "5dfda529-d182-4c21-848d-7e96587c9271",
   "metadata": {},
   "source": [
    "### 가중치 초기화 함수"
   ]
  },
  {
   "cell_type": "code",
   "execution_count": 4,
   "id": "bfc8dfc3-d3f5-4161-83c5-921b64f7ea77",
   "metadata": {},
   "outputs": [],
   "source": [
    "def weight_init_normal(m):\n",
    "    classname = m.__class__.__name__ \n",
    "    if classname.find(\"Conv\") != -1:\n",
    "        torch.nn.init.normal_(m.weight.data, 0.0, 0.02)\n",
    "        if hasattr(m, \"bias\") and m.bias is not None:\n",
    "            torch.nn.init.constant_(m.bias.data, 0.0)\n",
    "    elif classname.find(\"BatchNorm2d\") != -1:\n",
    "        torch.nn.init.normal_(m.weight.data, 1.0, 0.02)\n",
    "        torch.nn.init.constant_(m.bias.data, 0.0)"
   ]
  },
  {
   "cell_type": "markdown",
   "id": "93031bdc-597c-494c-a2e7-9ceb94fd33d2",
   "metadata": {},
   "source": [
    "### Residual block 구현"
   ]
  },
  {
   "cell_type": "code",
   "execution_count": 5,
   "id": "94111765-1106-466f-8af1-a47de375aef3",
   "metadata": {},
   "outputs": [],
   "source": [
    "class ResidualBlock(nn.Module):\n",
    "    def __init__(self, in_features):\n",
    "        super(ResidualBlock, self).__init__()\n",
    "        self.block = nn.Sequential(nn.ReflectionPad2d(1),\n",
    "                                  nn.Conv2d(in_features, in_features,3),\n",
    "                                  nn.InstanceNorm2d(in_features),\n",
    "                                  nn.ReLU(inplace=True),\n",
    "                                  nn.ReflectionPad2d(1),\n",
    "                                  nn.Conv2d(in_features, in_features, 3),\n",
    "                                  nn.InstanceNorm2d(in_features),\n",
    "                                  )\n",
    "    def forward(self, x):\n",
    "        return x + self.block(x)"
   ]
  },
  {
   "cell_type": "markdown",
   "id": "6f7ae6d7-3836-42d1-9752-74b8173bfeb4",
   "metadata": {},
   "source": [
    "### Genrator 구현"
   ]
  },
  {
   "cell_type": "code",
   "execution_count": 6,
   "id": "1be3bccc-ee68-4d49-bbf0-c53798d0cbd4",
   "metadata": {},
   "outputs": [],
   "source": [
    "class GeneratorResNet(nn.Module):\n",
    "    def __init__(self, input_shape, num_residual_blocks):\n",
    "        super(GeneratorResNet, self).__init__()\n",
    "        channels = input_shape[0]\n",
    "        out_features = 64\n",
    "        model = [nn.ReflectionPad2d(channels),\n",
    "                nn.Conv2d(channels, out_features, 7),\n",
    "                nn.InstanceNorm2d(out_features),\n",
    "                nn.ReLU(inplace=True),\n",
    "                ]\n",
    "        in_features = out_features\n",
    "        \n",
    "        for _ in range(2):\n",
    "            out_features *= 2\n",
    "            model += [nn.Conv2d(in_features, out_features, 3, stride=2, padding=1),\n",
    "                     nn.InstanceNorm2d(out_features),\n",
    "                     nn.ReLU(inplace=True),\n",
    "                     ]\n",
    "            in_features = out_features\n",
    "            \n",
    "        for _ in range(num_residual_blocks):\n",
    "            model += [ResidualBlock(out_features)]\n",
    "        \n",
    "        for _ in range(2):\n",
    "            out_features //= 2\n",
    "            model += [nn.Upsample(scale_factor=2),\n",
    "                     nn.Conv2d(in_features, out_features,3,stride=1,padding=1),\n",
    "                     nn.InstanceNorm2d(out_features),\n",
    "                     nn.ReLU(inplace=True),\n",
    "                     ]\n",
    "            in_features = out_features\n",
    "            \n",
    "        model += [nn.ReflectionPad2d(channels),\n",
    "                 nn.Conv2d(out_features, channels, 7),\n",
    "                 nn.Tanh()]\n",
    "        self.model = nn.Sequential(*model)\n",
    "        \n",
    "    def forward(self, x):\n",
    "        return self.model(x)"
   ]
  },
  {
   "cell_type": "markdown",
   "id": "51b97239-7a53-48d8-9704-d70d571a9b16",
   "metadata": {},
   "source": [
    "### Discriminater 구현\n",
    "\n",
    "- 생성된 이미지가 진짜인지 가짜인지 구분한다."
   ]
  },
  {
   "cell_type": "code",
   "execution_count": 7,
   "id": "3647b462-1037-41ca-a788-2df276f1ff4f",
   "metadata": {},
   "outputs": [],
   "source": [
    "class Discriminator(nn.Module):\n",
    "    def __init__(self, input_shape):\n",
    "        super(Discriminator, self).__init__()\n",
    "        channels, height, width = input_shape\n",
    "        \n",
    "        self.output_shape = (1, height // 2 ** 4, width // 2 ** 4)\n",
    "        \n",
    "        def discriminator_block(in_filters, out_filters, normalize=True):\n",
    "            layers = [nn.Conv2d(in_filters, out_filters, 4, stride=2,padding=1)]\n",
    "            \n",
    "            if normalize:\n",
    "                layers.append(nn.InstanceNorm2d(out_filters))\n",
    "            layers.append(nn.LeakyReLU(0.2, inplace=True))\n",
    "            return layers\n",
    "        \n",
    "        self.model = nn.Sequential(*discriminator_block(channels,64,normalize=False),\n",
    "                                  *discriminator_block(64,128),\n",
    "                                  *discriminator_block(128,256),\n",
    "                                  *discriminator_block(256,512),\n",
    "                                  nn.ZeroPad2d((1,0,1,0)),\n",
    "                                  nn.Conv2d(512,1,4,padding=1)\n",
    "                                  )\n",
    "        \n",
    "    def forward(self,img):\n",
    "        return self.model(img)\n",
    "            "
   ]
  },
  {
   "cell_type": "markdown",
   "id": "f7c3180a-d39f-4a4d-98bb-9a63de8d61fe",
   "metadata": {},
   "source": [
    "## 모델학습"
   ]
  },
  {
   "cell_type": "markdown",
   "id": "be2f07d1-f1cd-4db9-8dc9-22c853ecfcfe",
   "metadata": {},
   "source": [
    "### 하이퍼 파라미터 주정"
   ]
  },
  {
   "cell_type": "code",
   "execution_count": 8,
   "id": "15b321d9-98e2-44fd-8c70-cc31d340dbe2",
   "metadata": {},
   "outputs": [],
   "source": [
    "dataset_name = \"selfin2m\"\n",
    "channels = 3\n",
    "img_height = 256\n",
    "img_width = 256\n",
    "n_residual_blocks = 9\n",
    "lr = 0.0002\n",
    "b1 = 0.5\n",
    "b2 = 0.999\n",
    "n_epochs = 200\n",
    "init_epoch = 0\n",
    "decay_epoch = 100\n",
    "lambda_cyc = 10.0\n",
    "lambda_id = 5.0\n",
    "n_cpu = 8\n",
    "batch_size=1\n",
    "sample_interval = 100\n",
    "checkpoint_interval = 5"
   ]
  },
  {
   "cell_type": "markdown",
   "id": "1224fb6f-eb21-489a-9deb-a8d9cc341100",
   "metadata": {},
   "source": [
    "### 샘플 이미지와 모델 가준치를 저장할 폴더 생성"
   ]
  },
  {
   "cell_type": "code",
   "execution_count": 9,
   "id": "c2c24eed-91f2-4dd4-ae91-70d5c6d47333",
   "metadata": {},
   "outputs": [],
   "source": [
    "# os.makedirs(\"image/%s\" % dataset_name, exist_ok=True)\n",
    "# os.makedirs(\"model/%s\" % dataset_name, exist_ok=True)"
   ]
  },
  {
   "cell_type": "markdown",
   "id": "6509e270-1968-4be6-bfc3-51d16dd670e4",
   "metadata": {},
   "source": [
    "### 손실함수 정의"
   ]
  },
  {
   "cell_type": "code",
   "execution_count": 10,
   "id": "cd407fa4-ec92-42da-8944-0ddbb0327698",
   "metadata": {},
   "outputs": [],
   "source": [
    "criterion_GAN = torch.nn.MSELoss()\n",
    "criterion_cycle = torch.nn.L1Loss()\n",
    "criterion_identity = torch.nn.L1Loss()"
   ]
  },
  {
   "cell_type": "markdown",
   "id": "4b823689-a3d0-43a0-afcd-6284f4257e7b",
   "metadata": {},
   "source": [
    "### 모델 객체 선언하기"
   ]
  },
  {
   "cell_type": "code",
   "execution_count": 11,
   "id": "1650d653-4954-4406-9627-8d2e2e242669",
   "metadata": {},
   "outputs": [],
   "source": [
    "input_shape = (channels, img_height, img_width)\n",
    "\n",
    "G_AB = GeneratorResNet(input_shape,n_residual_blocks)\n",
    "G_BA = GeneratorResNet(input_shape,n_residual_blocks)\n",
    "D_A = Discriminator(input_shape)\n",
    "D_B = Discriminator(input_shape)"
   ]
  },
  {
   "cell_type": "markdown",
   "id": "97bd5da8-d67f-4434-afb4-fdc95c2cbf24",
   "metadata": {},
   "source": [
    "### GPU에 로드하기"
   ]
  },
  {
   "cell_type": "code",
   "execution_count": 12,
   "id": "75f8e4ea-15da-4d42-9fe4-358da55821e3",
   "metadata": {},
   "outputs": [],
   "source": [
    "cuda = torch.cuda.is_available()\n",
    "if cuda:\n",
    "    G_AB = G_AB.cuda()\n",
    "    G_BA = G_BA.cuda()\n",
    "    D_A = D_A.cuda()\n",
    "    D_B = D_B.cuda()\n",
    "    criterion_GAN.cuda()\n",
    "    criterion_cycle.cuda()\n",
    "    criterion_identity = criterion_identity.cuda()"
   ]
  },
  {
   "cell_type": "markdown",
   "id": "defa4bac-4dc2-4b21-a591-3a1089ec2a08",
   "metadata": {},
   "source": [
    "### 가중치 초기화"
   ]
  },
  {
   "cell_type": "code",
   "execution_count": 13,
   "id": "0f95eac7-9777-4d8b-8dda-cc016ceff030",
   "metadata": {
    "tags": []
   },
   "outputs": [
    {
     "data": {
      "text/plain": [
       "Discriminator(\n",
       "  (model): Sequential(\n",
       "    (0): Conv2d(3, 64, kernel_size=(4, 4), stride=(2, 2), padding=(1, 1))\n",
       "    (1): LeakyReLU(negative_slope=0.2, inplace=True)\n",
       "    (2): Conv2d(64, 128, kernel_size=(4, 4), stride=(2, 2), padding=(1, 1))\n",
       "    (3): InstanceNorm2d(128, eps=1e-05, momentum=0.1, affine=False, track_running_stats=False)\n",
       "    (4): LeakyReLU(negative_slope=0.2, inplace=True)\n",
       "    (5): Conv2d(128, 256, kernel_size=(4, 4), stride=(2, 2), padding=(1, 1))\n",
       "    (6): InstanceNorm2d(256, eps=1e-05, momentum=0.1, affine=False, track_running_stats=False)\n",
       "    (7): LeakyReLU(negative_slope=0.2, inplace=True)\n",
       "    (8): Conv2d(256, 512, kernel_size=(4, 4), stride=(2, 2), padding=(1, 1))\n",
       "    (9): InstanceNorm2d(512, eps=1e-05, momentum=0.1, affine=False, track_running_stats=False)\n",
       "    (10): LeakyReLU(negative_slope=0.2, inplace=True)\n",
       "    (11): ZeroPad2d(padding=(1, 0, 1, 0), value=0.0)\n",
       "    (12): Conv2d(512, 1, kernel_size=(4, 4), stride=(1, 1), padding=(1, 1))\n",
       "  )\n",
       ")"
      ]
     },
     "execution_count": 13,
     "metadata": {},
     "output_type": "execute_result"
    }
   ],
   "source": [
    "G_AB.apply(weight_init_normal)\n",
    "G_BA.apply(weight_init_normal)\n",
    "D_A.apply(weight_init_normal)\n",
    "D_B.apply(weight_init_normal)"
   ]
  },
  {
   "cell_type": "markdown",
   "id": "625295de-c452-49d5-80fa-8aade9b3f3de",
   "metadata": {},
   "source": [
    "### optimizer 정의"
   ]
  },
  {
   "cell_type": "code",
   "execution_count": 14,
   "id": "63b3224d-b629-4955-b483-b278d5aa3f76",
   "metadata": {},
   "outputs": [],
   "source": [
    "optimizer_G = torch.optim.Adam(\n",
    "    itertools.chain(G_AB.parameters(), G_BA.parameters()), lr=lr, betas=(b1,b2)\n",
    ")\n",
    "optimizer_D_A = torch.optim.Adam(D_A.parameters(), lr=lr, betas=(b1,b2))\n",
    "optimizer_D_B = torch.optim.Adam(D_B.parameters(), lr=lr, betas=(b1,b2))"
   ]
  },
  {
   "cell_type": "markdown",
   "id": "1f6966b0-cb24-4911-87cd-d14e1c953d1e",
   "metadata": {},
   "source": [
    "### 학습 스케쥴러"
   ]
  },
  {
   "cell_type": "code",
   "execution_count": 15,
   "id": "2f635664-3b78-4f51-86d6-045d6faa2839",
   "metadata": {},
   "outputs": [],
   "source": [
    "class LambdaLR:\n",
    "    def __init__(self, n_epochs, offset, decay_start_epoch):\n",
    "        assert (n_epochs - decay_start_epoch) > 0, \"Decay must start before the trainning session ends!\"\n",
    "        self.n_epochs = n_epochs\n",
    "        self.offset = offset\n",
    "        self.decay_start_epoch = decay_start_epoch\n",
    "    def step(self, epoch):\n",
    "        return 1.0-max(0,epoch + self.offset - self.decay_start_epoch)/(self.n_epochs - self.decay_start_epoch)"
   ]
  },
  {
   "cell_type": "code",
   "execution_count": 16,
   "id": "a1bcfb76-4c58-45ed-b868-9bd82204fbbf",
   "metadata": {},
   "outputs": [],
   "source": [
    "lr_scheduler_G = torch.optim.lr_scheduler.LambdaLR(\n",
    "    optimizer_G, lr_lambda=LambdaLR(n_epochs, init_epoch, decay_epoch).step\n",
    ")\n",
    "lr_scheduler_D_A = torch.optim.lr_scheduler.LambdaLR(\n",
    "    optimizer_D_A, lr_lambda=LambdaLR(n_epochs, init_epoch, decay_epoch).step\n",
    ")\n",
    "lr_scheduler_D_B = torch.optim.lr_scheduler.LambdaLR(\n",
    "    optimizer_D_B, lr_lambda=LambdaLR(n_epochs, init_epoch, decay_epoch).step\n",
    ")"
   ]
  },
  {
   "cell_type": "code",
   "execution_count": 17,
   "id": "301e26e2-e194-4243-8910-06dcd39987f6",
   "metadata": {},
   "outputs": [],
   "source": [
    "Tensor = torch.cuda.FloatTensor if cuda else torch.Tensor"
   ]
  },
  {
   "cell_type": "markdown",
   "id": "8c08fb35-d3aa-4159-a2d9-4f1fc8a16ef5",
   "metadata": {},
   "source": [
    "### ReplayBuffer"
   ]
  },
  {
   "cell_type": "code",
   "execution_count": 18,
   "id": "44dbebee-ff28-4bda-b0ab-ce64ccf44907",
   "metadata": {},
   "outputs": [],
   "source": [
    "class ReplayBuffer:\n",
    "    def __init__(self, max_size=50):\n",
    "        assert max_size >0, \"Empty buffer or trying to create a black hole. Be careful\"\n",
    "        \n",
    "        self.max_size = max_size\n",
    "        self.data = []\n",
    "        \n",
    "    def push_and_pop(self, data):\n",
    "        to_return = []\n",
    "        for element in data.data:\n",
    "            element = torch.unsqueeze(element, 0)\n",
    "            if len(self.data) < self.max_size:\n",
    "                self.data.append(element)\n",
    "                to_return.append(element)\n",
    "            else:\n",
    "                if random.uniform(0,1) > 0.5:\n",
    "                    i = random.randint(0, self.max_size - 1)\n",
    "                    to_return.append(self.data[i].clone())\n",
    "                    self.data[i] = element\n",
    "                else:\n",
    "                    to_return.append(element)\n",
    "        return Variable(torch.cat(to_return))"
   ]
  },
  {
   "cell_type": "code",
   "execution_count": 19,
   "id": "f669f01d-482f-4a06-abac-fb696a298edd",
   "metadata": {},
   "outputs": [],
   "source": [
    "fake_A_buffer = ReplayBuffer()\n",
    "fake_B_buffer = ReplayBuffer()"
   ]
  },
  {
   "cell_type": "markdown",
   "id": "83d5eb30-c3a4-46c2-9482-cbaf848b575f",
   "metadata": {},
   "source": [
    "### transform 정의"
   ]
  },
  {
   "cell_type": "code",
   "execution_count": 20,
   "id": "99f11539-0ba5-4140-ae41-e7c5356cb069",
   "metadata": {},
   "outputs": [
    {
     "name": "stderr",
     "output_type": "stream",
     "text": [
      "/home/ysher/.conda/envs/ysher_yonsei/lib/python3.7/site-packages/torchvision/transforms/transforms.py:258: UserWarning: Argument interpolation should be of type InterpolationMode instead of int. Please, use InterpolationMode enum.\n",
      "  \"Argument interpolation should be of type InterpolationMode instead of int. \"\n"
     ]
    }
   ],
   "source": [
    "transforms_ = [\n",
    "    transforms.Resize(int(img_height * 1.12), Image.BICUBIC),\n",
    "    transforms.RandomCrop((img_height, img_width)),\n",
    "    transforms.RandomHorizontalFlip(),\n",
    "    transforms.ToTensor(),\n",
    "    transforms.Normalize((0.5,0.5,0.5),(0.5,0.5,0.5)),\n",
    "]"
   ]
  },
  {
   "cell_type": "markdown",
   "id": "45442b6b-e62c-4ad5-bb68-3410506df49a",
   "metadata": {},
   "source": [
    "### Dataloafer 정의"
   ]
  },
  {
   "cell_type": "code",
   "execution_count": 21,
   "id": "cc11c8dc-fa5f-4dd8-b8e4-a38ba3c5ce44",
   "metadata": {},
   "outputs": [],
   "source": [
    "dataloader = DataLoader(ImageDataset(\"../data/%s\"%dataset_name, transforms_=transforms_, unaligned=True),\n",
    "                       batch_size = batch_size, shuffle=True, num_workers=n_cpu)\n",
    "val_dataloader = DataLoader(ImageDataset(\"../data/%s\"%dataset_name, transforms_=transforms_, unaligned=True,mode=\"test\"),\n",
    "                       batch_size = 5, shuffle=True, num_workers=1)"
   ]
  },
  {
   "cell_type": "markdown",
   "id": "8f6623c0-be79-407a-8689-b1a808d8584b",
   "metadata": {},
   "source": [
    "### 생성한 샘플 이미지를 시각화하여 저장하는 함수"
   ]
  },
  {
   "cell_type": "code",
   "execution_count": 22,
   "id": "1179f715-c090-4388-a173-6bedf885e998",
   "metadata": {},
   "outputs": [],
   "source": [
    "def sample_images(batches_done):\n",
    "    imgs = next(iter(val_dataloader))\n",
    "    G_AB.eval()\n",
    "    G_BA.eval()\n",
    "    real_A = Variable(imgs[\"A\"].type(Tensor))\n",
    "    fake_B = G_AB(real_A)\n",
    "    real_B = Variable(imgs[\"B\"].type(Tensor))\n",
    "    fake_A = G_BA(real_B)\n",
    "    \n",
    "    real_A = make_grid(real_A, nrow=5, normalize=True)\n",
    "    real_B = make_grid(real_B, nrow=5, normalize=True)\n",
    "    fake_A = make_grid(fake_A, nrow=5, normalize=True)\n",
    "    fake_B = make_grid(fake_B, nrow=5, normalize=True)\n",
    "    \n",
    "    image_grid = torch.cat((real_A, fake_B, real_B, fake_A), 1)\n",
    "    save_image(image_grid, \"../data/%s/sample_test/%s.png\" % (dataset_name, batches_done), normalize=False)"
   ]
  },
  {
   "cell_type": "markdown",
   "id": "47bf667c-e597-42ec-8277-0320f945a0e7",
   "metadata": {},
   "source": [
    "### 모델 학습 파이프라인"
   ]
  },
  {
   "cell_type": "code",
   "execution_count": null,
   "id": "aed903ef-c562-409f-98b4-e7e67024092b",
   "metadata": {},
   "outputs": [
    {
     "name": "stdout",
     "output_type": "stream",
     "text": [
      "[Epoch 0/200] [Batch 855/3400] [D loss: 0.228057] [G loss: 3.572199, adv: 0.336834, cycle: 0.231996, identity: 0.183080] ETA:1 day, 14:25:38.3188034"
     ]
    }
   ],
   "source": [
    "prev_time = time.time()\n",
    "for epoch in range(init_epoch, n_epochs):\n",
    "    for i, batch in enumerate(dataloader):\n",
    "        real_A = Variable(batch[\"A\"].type(Tensor))\n",
    "        real_B = Variable(batch[\"B\"].type(Tensor))\n",
    "        \n",
    "        valid = Variable(Tensor(np.ones((real_A.size(0), *D_A.output_shape))), requires_grad=False)\n",
    "        fake = Variable(Tensor(np.zeros((real_A.size(0), *D_A.output_shape))), requires_grad=False)\n",
    "        \n",
    "        G_AB.train()\n",
    "        G_BA.train()\n",
    "        optimizer_G.zero_grad()\n",
    "        \n",
    "        loss_id_A = criterion_identity(G_BA(real_A), real_A)\n",
    "        loss_id_B = criterion_identity(G_AB(real_B), real_B)\n",
    "        loss_identity = (loss_id_A + loss_id_B)/2\n",
    "        \n",
    "        fake_B = G_AB(real_A)\n",
    "        loss_GAN_AB = criterion_GAN(D_B(fake_B), valid)\n",
    "        fake_A = G_BA(real_B)\n",
    "        loss_GAN_BA = criterion_GAN(D_A(fake_A), valid)\n",
    "        loss_GAN = (loss_GAN_AB + loss_GAN_BA)/2\n",
    "        \n",
    "        recov_A = G_BA(fake_B)\n",
    "        loss_cycle_A = criterion_cycle(recov_A, real_A)\n",
    "        recov_B = G_AB(fake_A)\n",
    "        loss_cycle_B = criterion_cycle(recov_B, real_B)\n",
    "        loss_cycle = (loss_cycle_A + loss_cycle_B)/2\n",
    "        \n",
    "        loss_G = loss_GAN + lambda_cyc*loss_cycle +lambda_id*loss_identity\n",
    "        \n",
    "        loss_G.backward()\n",
    "        optimizer_G.step()\n",
    "        \n",
    "        '''#############################################################################'''\n",
    "        \n",
    "        optimizer_D_A.zero_grad()\n",
    "        loss_real = criterion_GAN(D_A(real_A), valid)\n",
    "        fake_A_ = fake_A_buffer.push_and_pop(fake_A)\n",
    "        loss_fake = criterion_GAN(D_A(fake_A_.detach()), fake)\n",
    "        \n",
    "        loss_D_A = (loss_real + loss_fake)/2\n",
    "        loss_D_A.backward()\n",
    "        optimizer_D_A.step()\n",
    "        \n",
    "        optimizer_D_B.zero_grad()\n",
    "        loss_real = criterion_GAN(D_B(real_B), valid)\n",
    "        fake_B_ = fake_B_buffer.push_and_pop(fake_B)\n",
    "        loss_fake = criterion_GAN(D_B(fake_B_.detach()), fake)\n",
    "        \n",
    "        loss_D_B = (loss_real + loss_fake)/2\n",
    "        loss_D_B.backward()\n",
    "        optimizer_D_B.step()\n",
    "        \n",
    "        loss_D = (loss_D_A + loss_D_B)/2\n",
    "        \n",
    "        batches_done = epoch * len(dataloader) + i\n",
    "        batches_left = n_epochs * len(dataloader) - batches_done\n",
    "        time_left = datetime.timedelta(seconds=batches_left *(time.time() - prev_time))\n",
    "        prev_time = time.time()\n",
    "        \n",
    "        sys.stdout.write(\n",
    "        \"\\r[Epoch %d/%d] [Batch %d/%d] [D loss: %f] [G loss: %f, adv: %f, cycle: %f, identity: %f] ETA:%s\" % (epoch,\n",
    "                                                                                                             n_epochs,\n",
    "                                                                                                             i,\n",
    "                                                                                                             len(dataloader),\n",
    "                                                                                                             loss_D.item(),\n",
    "                                                                                                             loss_G.item(),\n",
    "                                                                                                             loss_GAN.item(),\n",
    "                                                                                                             loss_cycle.item(),\n",
    "                                                                                                             loss_identity.item(),\n",
    "                                                                                                             time_left))\n",
    "        if batches_done % sample_interval ==0:\n",
    "            sample_images(batches_done)\n",
    "    \n",
    "    lr_scheduler_G.step()\n",
    "    lr_scheduler_D_A.step()\n",
    "    lr_scheduler_D_B.step()\n",
    "    \n",
    "    if checkpoint_interval != -1 and epoch % checkpoint_interval ==0:\n",
    "        torch.save(G_AB.state_dict(),\"../model/G_AB_%d.pth\" % (epoch))\n",
    "        torch.save(G_BA.state_dict(),\"../model/G_BA_%d.pth\" % (epoch))\n",
    "        torch.save(D_A.state_dict(),\"../model/D_A_%d.pth\" % (epoch))\n",
    "        torch.save(D_B.state_dict(),\"../model/D_B_%d.pth\" % (epoch))"
   ]
  },
  {
   "cell_type": "code",
   "execution_count": null,
   "id": "5b2908ac-8da8-4a0f-9636-6986123d5c48",
   "metadata": {},
   "outputs": [],
   "source": []
  }
 ],
 "metadata": {
  "kernelspec": {
   "display_name": "ysher_yonsei",
   "language": "python",
   "name": "ysher_yonsei"
  },
  "language_info": {
   "codemirror_mode": {
    "name": "ipython",
    "version": 3
   },
   "file_extension": ".py",
   "mimetype": "text/x-python",
   "name": "python",
   "nbconvert_exporter": "python",
   "pygments_lexer": "ipython3",
   "version": "3.7.10"
  }
 },
 "nbformat": 4,
 "nbformat_minor": 5
}
