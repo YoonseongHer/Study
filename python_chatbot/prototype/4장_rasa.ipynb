{
 "cells": [
  {
   "cell_type": "code",
   "execution_count": 18,
   "id": "562fce02-ac4f-4a84-bbf2-4917b8196d33",
   "metadata": {},
   "outputs": [
    {
     "data": {
      "text/plain": [
       "'2.0.11'"
      ]
     },
     "execution_count": 18,
     "metadata": {},
     "output_type": "execute_result"
    }
   ],
   "source": [
    "import spacy\n",
    "spacy.__version__"
   ]
  },
  {
   "cell_type": "code",
   "execution_count": 19,
   "id": "eade78f7-1233-41e2-89c2-db7e530a6609",
   "metadata": {},
   "outputs": [
    {
     "data": {
      "text/plain": [
       "'0.19.0'"
      ]
     },
     "execution_count": 19,
     "metadata": {},
     "output_type": "execute_result"
    }
   ],
   "source": [
    "import sklearn\n",
    "sklearn.__version__"
   ]
  },
  {
   "cell_type": "code",
   "execution_count": 20,
   "id": "a4a373cf-80e3-44fa-a9f6-861a3b1a8ccf",
   "metadata": {},
   "outputs": [
    {
     "data": {
      "text/plain": [
       "'1.9.0'"
      ]
     },
     "execution_count": 20,
     "metadata": {},
     "output_type": "execute_result"
    }
   ],
   "source": [
    "import tensorflow as tf\n",
    "tf.__version__"
   ]
  },
  {
   "cell_type": "code",
   "execution_count": 21,
   "id": "297f9012-9711-4edc-8966-2bc46bb60ba4",
   "metadata": {},
   "outputs": [],
   "source": [
    "from rasa_nlu.training_data import load_data\n",
    "from rasa_nlu.model import Trainer\n",
    "from rasa_nlu import config\n",
    "from rasa_nlu.model import Interpreter"
   ]
  },
  {
   "cell_type": "code",
   "execution_count": 22,
   "id": "79ddadc8-7210-4790-b1a7-6689980ccdde",
   "metadata": {},
   "outputs": [],
   "source": [
    "def train_horoscopebot(data_json,config_file,model_dir):\n",
    "    training_data = load_data(data_json)\n",
    "    trainer = Trainer(config.load(config_file))\n",
    "    trainer.train(training_data)\n",
    "    model_directory = trainer.persist(model_dir, fixed_model_name='horoscopebot')\n",
    "\n",
    "def predict_intent(text):\n",
    "    interpreter = Interpreter.load('./models/nlu/default/horoscopebot')\n",
    "    print(interpreter.parse(text))"
   ]
  },
  {
   "cell_type": "code",
   "execution_count": 23,
   "id": "93de9dda-6b2f-4bce-a218-5f9926d3a20c",
   "metadata": {},
   "outputs": [
    {
     "name": "stderr",
     "output_type": "stream",
     "text": [
      "Epochs: 100%|██████████| 300/300 [00:03<00:00, 94.80it/s, loss=0.092, acc=1.000] \n"
     ]
    }
   ],
   "source": [
    "train_horoscopebot(\"./data/data.json\",'config.yml','./models/nlu/')"
   ]
  },
  {
   "cell_type": "code",
   "execution_count": 24,
   "id": "0dc59828-4531-4ef1-9195-92d228e8f3bf",
   "metadata": {},
   "outputs": [
    {
     "name": "stdout",
     "output_type": "stream",
     "text": [
      "INFO:tensorflow:Restoring parameters from ./models/nlu/default/horoscopebot/intent_classifier_tensorflow_embedding.ckpt\n",
      "{'intent': {'name': 'lipid_diagnosis', 'confidence': 0.9540391564369202}, 'entities': [], 'intent_ranking': [{'name': 'lipid_diagnosis', 'confidence': 0.9540391564369202}, {'name': 'greet', 'confidence': 0.10591211915016174}, {'name': 'lipid_diet', 'confidence': 0.04823902249336243}, {'name': 'lipid_excercise', 'confidence': 0.0}, {'name': 'tg_intent', 'confidence': 0.0}, {'name': 'lipid_info', 'confidence': 0.0}], 'text': '이상지질혈증인지 알려줘'}\n"
     ]
    }
   ],
   "source": [
    "predict_intent(\"이상지질혈증인지 알려줘\")"
   ]
  },
  {
   "cell_type": "code",
   "execution_count": 25,
   "id": "4cc5bc83-4bc6-49b2-bce3-bd8f3e24d0ae",
   "metadata": {},
   "outputs": [
    {
     "name": "stdout",
     "output_type": "stream",
     "text": [
      "INFO:tensorflow:Restoring parameters from ./models/nlu/default/horoscopebot/intent_classifier_tensorflow_embedding.ckpt\n",
      "{'intent': {'name': 'lipid_info', 'confidence': 0.6070950031280518}, 'entities': [], 'intent_ranking': [{'name': 'lipid_info', 'confidence': 0.6070950031280518}, {'name': 'lipid_excercise', 'confidence': 0.41406410932540894}, {'name': 'greet', 'confidence': 0.26253989338874817}, {'name': 'tg_intent', 'confidence': 0.029841449111700058}, {'name': 'lipid_diagnosis', 'confidence': 0.0}, {'name': 'lipid_diet', 'confidence': 0.0}], 'text': '정보'}\n"
     ]
    }
   ],
   "source": [
    "predict_intent(\"정보\")"
   ]
  },
  {
   "cell_type": "markdown",
   "id": "6822bd14-7593-4254-aa5e-ba8caf33d96d",
   "metadata": {},
   "source": [
    "## Rasa core"
   ]
  },
  {
   "cell_type": "markdown",
   "id": "72ea8cf3-222e-4056-9dc9-b73ecffae8c6",
   "metadata": {},
   "source": [
    "### Action"
   ]
  },
  {
   "cell_type": "code",
   "execution_count": 10,
   "id": "1d292e38-eadd-4c4e-acfb-ea79fa71dfc8",
   "metadata": {},
   "outputs": [],
   "source": [
    "from rasa_core.actions import Action\n",
    "from rasa_core.events import SlotSet\n",
    "\n",
    "class GetTodayHoroscope(Action):\n",
    "    def name(self):\n",
    "        return \"get_today_horoscope\"\n",
    "    \n",
    "    def run(self, dispatcher, tracker, domain):\n",
    "        '''\n",
    "        type: (Dispatvher, DialogueStateTracker, Domain) -> List[Event]\n",
    "        '''\n",
    "        \n",
    "        user_horoscope_sign = tracker.get_slot('horoscope_sign')\n",
    "        ..."
   ]
  },
  {
   "cell_type": "code",
   "execution_count": 16,
   "id": "c472091f-6e7f-4170-aae0-f95df8d3fb40",
   "metadata": {},
   "outputs": [
    {
     "data": {
      "text/plain": [
       "'asldkjf 1'"
      ]
     },
     "execution_count": 16,
     "metadata": {},
     "output_type": "execute_result"
    }
   ],
   "source": [
    "f\"asldkjf {1}\""
   ]
  },
  {
   "cell_type": "code",
   "execution_count": 17,
   "id": "850492e1-cacb-4369-8a30-f4a4757f5225",
   "metadata": {},
   "outputs": [
    {
     "ename": "SyntaxError",
     "evalue": "from __future__ imports must occur at the beginning of the file (<ipython-input-17-6d5c5b2f0daf>, line 4)",
     "output_type": "error",
     "traceback": [
      "\u001b[0;36m  File \u001b[0;32m\"<ipython-input-17-6d5c5b2f0daf>\"\u001b[0;36m, line \u001b[0;32m4\u001b[0m\n\u001b[0;31mSyntaxError\u001b[0m\u001b[0;31m:\u001b[0m from __future__ imports must occur at the beginning of the file\n"
     ]
    }
   ],
   "source": [
    "from __future__ import braces"
   ]
  },
  {
   "cell_type": "code",
   "execution_count": 18,
   "id": "19a467e9-61a7-4bec-abbb-ca3db15f170a",
   "metadata": {},
   "outputs": [
    {
     "ename": "SyntaxError",
     "evalue": "from __future__ imports must occur at the beginning of the file (<ipython-input-18-0fa5d085fbcd>, line 4)",
     "output_type": "error",
     "traceback": [
      "\u001b[0;36m  File \u001b[0;32m\"<ipython-input-18-0fa5d085fbcd>\"\u001b[0;36m, line \u001b[0;32m4\u001b[0m\n\u001b[0;31mSyntaxError\u001b[0m\u001b[0;31m:\u001b[0m from __future__ imports must occur at the beginning of the file\n"
     ]
    }
   ],
   "source": [
    "from __future__ import print_fuction"
   ]
  },
  {
   "cell_type": "code",
   "execution_count": 17,
   "id": "bbf2f859-3e52-4bce-814a-31a29c51de6a",
   "metadata": {},
   "outputs": [],
   "source": [
    "import rasa_core_sdk as rcs\n",
    "# rcs.__version__"
   ]
  },
  {
   "cell_type": "code",
   "execution_count": 4,
   "id": "90080649-440d-4c31-abbf-7f2da678730c",
   "metadata": {},
   "outputs": [],
   "source": [
    "from rasa_core.channels.rasa_chat import RasaChatInput\n",
    "from rasa_core.channels.channel import CollectingOutputChannel, UserMessage\n",
    "from rasa_core.agent import Agent\n",
    "from rasa_core.interpreter import RasaNLUInterpreter\n",
    "from rasa_core.utils import EndpointConfig\n",
    "from rasa_core import utils\n",
    "from flask import render_template, Blueprint, jsonify, request"
   ]
  },
  {
   "cell_type": "code",
   "execution_count": null,
   "id": "6004698c-28ac-4f7b-9c67-73f0bd9314d5",
   "metadata": {},
   "outputs": [],
   "source": []
  },
  {
   "cell_type": "code",
   "execution_count": null,
   "id": "c1f8fdaf-3252-41f2-a338-e3ebdfe6927f",
   "metadata": {},
   "outputs": [],
   "source": []
  },
  {
   "cell_type": "code",
   "execution_count": null,
   "id": "14f67508-d34e-4023-8669-7a485b6f6c8d",
   "metadata": {},
   "outputs": [],
   "source": []
  },
  {
   "cell_type": "code",
   "execution_count": null,
   "id": "bc51819e-f3f7-4835-8ea8-2d38cbf5d5c9",
   "metadata": {},
   "outputs": [],
   "source": []
  },
  {
   "cell_type": "code",
   "execution_count": null,
   "id": "374f475c-605d-44cd-b223-6a926545e16e",
   "metadata": {},
   "outputs": [],
   "source": []
  },
  {
   "cell_type": "code",
   "execution_count": null,
   "id": "61d34d71-4e44-43c7-90dc-4f8b8e6d2473",
   "metadata": {},
   "outputs": [],
   "source": []
  },
  {
   "cell_type": "code",
   "execution_count": null,
   "id": "565b3903-5482-4b2e-b119-cdd1c40c099d",
   "metadata": {},
   "outputs": [],
   "source": []
  },
  {
   "cell_type": "code",
   "execution_count": null,
   "id": "99f69969-0d0a-445a-96df-90f45e07e0cc",
   "metadata": {},
   "outputs": [],
   "source": []
  },
  {
   "cell_type": "code",
   "execution_count": null,
   "id": "d47a0bc5-f1df-4854-984b-21cdf0e2c33e",
   "metadata": {},
   "outputs": [],
   "source": []
  },
  {
   "cell_type": "code",
   "execution_count": null,
   "id": "c8c3aad8-904f-43f9-aa59-8f3926d53c3f",
   "metadata": {},
   "outputs": [],
   "source": []
  },
  {
   "cell_type": "code",
   "execution_count": null,
   "id": "5d22854b-12bd-476c-ba25-ab04d3b54581",
   "metadata": {},
   "outputs": [],
   "source": []
  },
  {
   "cell_type": "code",
   "execution_count": null,
   "id": "2db0b206-045b-4ef8-ad76-3ad7b9dfaa6a",
   "metadata": {},
   "outputs": [],
   "source": []
  }
 ],
 "metadata": {
  "kernelspec": {
   "display_name": "ysher_chatbot2",
   "language": "python",
   "name": "ysher_chatbot2"
  },
  "language_info": {
   "codemirror_mode": {
    "name": "ipython",
    "version": 3
   },
   "file_extension": ".py",
   "mimetype": "text/x-python",
   "name": "python",
   "nbconvert_exporter": "python",
   "pygments_lexer": "ipython3",
   "version": "3.6.13"
  }
 },
 "nbformat": 4,
 "nbformat_minor": 5
}
