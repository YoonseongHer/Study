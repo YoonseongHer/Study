{
 "cells": [
  {
   "cell_type": "code",
   "execution_count": null,
   "id": "44b3fee2-49df-4dcc-bc69-9ef17e2a8008",
   "metadata": {},
   "outputs": [],
   "source": []
  }
 ],
 "metadata": {
  "kernelspec": {
   "display_name": "ysher_chatbot3",
   "language": "python",
   "name": "ysher_chatbot3"
  },
  "language_info": {
   "codemirror_mode": {
    "name": "ipython",
    "version": 3
   },
   "file_extension": ".py",
   "mimetype": "text/x-python",
   "name": "python",
   "nbconvert_exporter": "python",
   "pygments_lexer": "ipython3",
   "version": "3.8.13"
  }
 },
 "nbformat": 4,
 "nbformat_minor": 5
}
