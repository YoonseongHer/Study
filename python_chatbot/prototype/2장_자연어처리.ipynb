{
 "cells": [
  {
   "cell_type": "code",
   "execution_count": 1,
   "id": "cad69db3-c473-4352-84cc-369f729d876f",
   "metadata": {},
   "outputs": [],
   "source": [
    "import spacy"
   ]
  },
  {
   "cell_type": "code",
   "execution_count": 20,
   "id": "bdb9f589-d21c-445c-9b1b-c627daab12fc",
   "metadata": {},
   "outputs": [
    {
     "name": "stdout",
     "output_type": "stream",
     "text": [
      "I PRON\n",
      "am AUX\n",
      "learning VERB\n",
      "how SCONJ\n",
      "to PART\n",
      "build VERB\n",
      "chatbot PROPN\n"
     ]
    }
   ],
   "source": [
    "nlp = spacy.load(\"en_core_web_sm\")\n",
    "doc = nlp(u\"I am learning how to build chatbot\")\n",
    "for token in doc:\n",
    "    print(token.text, token.pos_)"
   ]
  },
  {
   "cell_type": "code",
   "execution_count": 24,
   "id": "671c5d51-22ac-4fb2-9eb7-3d48e0e77ef9",
   "metadata": {},
   "outputs": [
    {
     "name": "stdout",
     "output_type": "stream",
     "text": [
      "I PRON I\n",
      "am AUX be\n",
      "going VERB go\n",
      "to ADP to\n",
      "London PROPN London\n",
      "next ADJ next\n",
      "week NOUN week\n",
      "for ADP for\n",
      "a DET a\n",
      "meeting NOUN meeting\n",
      ". PUNCT .\n"
     ]
    }
   ],
   "source": [
    "doc = nlp(u\"I am going to London next week for a meeting.\")\n",
    "for token in doc:\n",
    "    print(token.text, token.pos_, token.lemma_)"
   ]
  },
  {
   "cell_type": "markdown",
   "id": "212f9d43-c495-481e-bca3-f19c41f5ec16",
   "metadata": {},
   "source": [
    "## 표제어 추출"
   ]
  },
  {
   "cell_type": "code",
   "execution_count": 25,
   "id": "83d89a8e-ea9e-43a9-bd5c-60c31114c6a1",
   "metadata": {},
   "outputs": [
    {
     "name": "stdout",
     "output_type": "stream",
     "text": [
      "I PRON I\n",
      "am AUX be\n",
      "going VERB go\n",
      "to ADP to\n",
      "London PROPN London\n",
      "next ADJ next\n",
      "week NOUN week\n",
      "for ADP for\n",
      "a DET a\n",
      "meeting NOUN meeting\n",
      ". PUNCT .\n"
     ]
    }
   ],
   "source": [
    "doc = nlp(u\"I am going to London next week for a meeting.\")\n",
    "for token in doc:\n",
    "    print(token.text, token.pos_, token.lemma_)"
   ]
  },
  {
   "cell_type": "code",
   "execution_count": 1,
   "id": "1c5ca6ee-027e-4b7c-9899-037104dceadd",
   "metadata": {},
   "outputs": [],
   "source": [
    "import rasa_nlu"
   ]
  },
  {
   "cell_type": "code",
   "execution_count": null,
   "id": "0e0a3eab-78c2-4059-9688-a0efad2a295d",
   "metadata": {},
   "outputs": [],
   "source": []
  },
  {
   "cell_type": "code",
   "execution_count": null,
   "id": "9d6ee21b-aebd-49d3-a699-e2e3f7bb5f77",
   "metadata": {},
   "outputs": [],
   "source": []
  },
  {
   "cell_type": "code",
   "execution_count": null,
   "id": "e57b7031-65ef-4e73-bc95-b02e82990408",
   "metadata": {},
   "outputs": [],
   "source": []
  },
  {
   "cell_type": "code",
   "execution_count": null,
   "id": "706fc331-2618-45f8-8cc5-b6e648c14dce",
   "metadata": {},
   "outputs": [],
   "source": []
  },
  {
   "cell_type": "code",
   "execution_count": null,
   "id": "7520c483-5461-41f8-a319-a9bece571d70",
   "metadata": {},
   "outputs": [],
   "source": []
  },
  {
   "cell_type": "code",
   "execution_count": null,
   "id": "e49d6607-f38f-4346-b2ee-c336569764c1",
   "metadata": {},
   "outputs": [],
   "source": []
  },
  {
   "cell_type": "code",
   "execution_count": null,
   "id": "527e6823-e410-4f39-be94-545f095be612",
   "metadata": {},
   "outputs": [],
   "source": []
  },
  {
   "cell_type": "code",
   "execution_count": null,
   "id": "3d25f50e-7333-419d-9ead-8703060d6573",
   "metadata": {},
   "outputs": [],
   "source": []
  },
  {
   "cell_type": "code",
   "execution_count": null,
   "id": "dbb7968a-b71a-45dd-bdf3-6c14117e95f4",
   "metadata": {},
   "outputs": [],
   "source": []
  },
  {
   "cell_type": "code",
   "execution_count": null,
   "id": "588d3046-9098-45c7-b290-b1fcd4b5f013",
   "metadata": {},
   "outputs": [],
   "source": []
  },
  {
   "cell_type": "code",
   "execution_count": null,
   "id": "397c6568-489b-4d78-be0d-ca975e293258",
   "metadata": {},
   "outputs": [],
   "source": []
  },
  {
   "cell_type": "code",
   "execution_count": null,
   "id": "02af11e5-04a8-42f4-a911-2575036e7c27",
   "metadata": {},
   "outputs": [],
   "source": []
  },
  {
   "cell_type": "code",
   "execution_count": null,
   "id": "ff63391d-f6c7-4453-88bf-8bf6f5e837b1",
   "metadata": {},
   "outputs": [],
   "source": []
  },
  {
   "cell_type": "code",
   "execution_count": null,
   "id": "b0537e56-48ed-4b6a-bad0-ef2f518ed7e2",
   "metadata": {},
   "outputs": [],
   "source": []
  },
  {
   "cell_type": "code",
   "execution_count": null,
   "id": "34e60fc8-594d-42b0-8ef2-959775c19a6e",
   "metadata": {},
   "outputs": [],
   "source": []
  },
  {
   "cell_type": "code",
   "execution_count": null,
   "id": "e2b45cb8-d560-4363-ace4-d04ef1e156f1",
   "metadata": {},
   "outputs": [],
   "source": []
  },
  {
   "cell_type": "code",
   "execution_count": null,
   "id": "1d1678c4-c9b5-42fb-81b8-413fd895c53d",
   "metadata": {},
   "outputs": [],
   "source": []
  },
  {
   "cell_type": "code",
   "execution_count": null,
   "id": "a4acb78b-8868-4052-acd7-075c8f6f5ebf",
   "metadata": {},
   "outputs": [],
   "source": []
  },
  {
   "cell_type": "code",
   "execution_count": null,
   "id": "d6f6cfbc-31e1-41b9-be27-df5b4b952134",
   "metadata": {},
   "outputs": [],
   "source": []
  },
  {
   "cell_type": "code",
   "execution_count": null,
   "id": "887e79bd-60f0-46d8-ad28-abba6f769d5f",
   "metadata": {},
   "outputs": [],
   "source": []
  },
  {
   "cell_type": "code",
   "execution_count": null,
   "id": "d64eaf01-5b77-44ce-9c10-81e7b55a090f",
   "metadata": {},
   "outputs": [],
   "source": []
  },
  {
   "cell_type": "code",
   "execution_count": null,
   "id": "8d1891aa-b8cf-4686-b778-958170ecf3d9",
   "metadata": {},
   "outputs": [],
   "source": []
  },
  {
   "cell_type": "code",
   "execution_count": null,
   "id": "cb380110-452a-43ce-a0dd-55bea5f73d4b",
   "metadata": {},
   "outputs": [],
   "source": []
  },
  {
   "cell_type": "code",
   "execution_count": null,
   "id": "a807136b-a9b0-4994-860f-fb027dcd546a",
   "metadata": {},
   "outputs": [],
   "source": []
  },
  {
   "cell_type": "code",
   "execution_count": null,
   "id": "6216ed17-9adc-4da9-91aa-b4848bc26bd6",
   "metadata": {},
   "outputs": [],
   "source": []
  },
  {
   "cell_type": "code",
   "execution_count": null,
   "id": "fbe168a2-d175-4576-b78c-8f93ba375eaa",
   "metadata": {},
   "outputs": [],
   "source": []
  }
 ],
 "metadata": {
  "kernelspec": {
   "display_name": "ysher_chatbot",
   "language": "python",
   "name": "ysher_chatbot"
  },
  "language_info": {
   "codemirror_mode": {
    "name": "ipython",
    "version": 3
   },
   "file_extension": ".py",
   "mimetype": "text/x-python",
   "name": "python",
   "nbconvert_exporter": "python",
   "pygments_lexer": "ipython3",
   "version": "3.7.11"
  }
 },
 "nbformat": 4,
 "nbformat_minor": 5
}
