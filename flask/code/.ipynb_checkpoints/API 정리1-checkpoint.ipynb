{
 "cells": [
  {
   "cell_type": "code",
   "execution_count": 1,
   "id": "5f369919-4f8a-4cf2-8301-3a97d3a358d3",
   "metadata": {},
   "outputs": [],
   "source": [
    "import requests\n",
    "import json\n",
    "from time import time\n",
    "import pandas as pd"
   ]
  },
  {
   "cell_type": "markdown",
   "id": "b5ba3243-184f-4c48-a32d-75606548ccfe",
   "metadata": {},
   "source": [
    "## API 정리"
   ]
  },
  {
   "cell_type": "markdown",
   "id": "85423ef7-41b7-4048-af28-c37ce225d42c",
   "metadata": {},
   "source": [
    "### get post put 방식 request"
   ]
  },
  {
   "cell_type": "code",
   "execution_count": null,
   "id": "b5acbcf6-561b-4aab-b2c1-2d70044dacd5",
   "metadata": {},
   "outputs": [],
   "source": [
    "url = 'http://192.168.6.51:3100/v1/da'\n",
    "res = requests.get(url, headers=headers)\n",
    "res.status_code\n",
    "res.text"
   ]
  },
  {
   "cell_type": "code",
   "execution_count": null,
   "id": "717a60d5-8c65-41a7-8d39-1e0aaab97c08",
   "metadata": {},
   "outputs": [],
   "source": [
    "url = 'http://192.168.6.51:3100/v1/da'\n",
    "data = {'title': 'dummy title', 'id': 1, 'message': 'hello world!'}\n",
    "headers = {'Content-Type': 'application/json; chearset=utf-8'} \n",
    "res = requests.post(url, data=json.dumps(data), headers=headers) \n",
    "res.status_code\n",
    "res.text"
   ]
  },
  {
   "cell_type": "code",
   "execution_count": null,
   "id": "67b4fccf-ab62-4955-b4c2-dce245c853db",
   "metadata": {},
   "outputs": [],
   "source": [
    "url\n",
    "data\n",
    "requests.put(url,json=data, headers)\n",
    "res.status_code\n",
    "res.text"
   ]
  },
  {
   "cell_type": "markdown",
   "id": "51c0df13-319c-4721-922b-a9ebec28a3a0",
   "metadata": {},
   "source": [
    "### API에서 데이터 가져오기"
   ]
  },
  {
   "cell_type": "code",
   "execution_count": null,
   "id": "86227384-d18d-468a-ba5c-0d77d5558918",
   "metadata": {},
   "outputs": [],
   "source": [
    "# headers 정보 가져오기\n",
    "request.headers.get('num')\n",
    "# body 정보 가져오기\n",
    "request.get_json()"
   ]
  },
  {
   "cell_type": "markdown",
   "id": "8c07fb7b-f978-477b-b8de-bd259c1d3538",
   "metadata": {},
   "source": [
    "### 선 return 후 작동"
   ]
  },
  {
   "cell_type": "code",
   "execution_count": null,
   "id": "6f3dc265-a0c8-4cf3-9045-f39393603272",
   "metadata": {},
   "outputs": [],
   "source": [
    "import threading\n",
    "\n",
    "@app.route('/webhook', methods=['GET', 'POST'])\n",
    "def webhook():\n",
    "    '''자동화 작업 함수'''\n",
    "    def auto(content):\n",
    "        print(content)\n",
    "        \n",
    "    if request.method == 'GET':\n",
    "        content = request.args.to_dict()\n",
    "    elif request.method == 'POST':\n",
    "        if request.is_json is True:  # Content-Type: json\n",
    "            content = request.get_json()\n",
    "        else:  # Content-Type: x-www-form-urlencoded\n",
    "            content = request.form.to_dict()\n",
    "            \n",
    "    '''스레드 실행'''\n",
    "    thread = threading.Thread(target=auto, kwargs={'content': content})\n",
    "    thread.start()\n",
    "    return 'Hello World!'"
   ]
  },
  {
   "cell_type": "markdown",
   "id": "19b7f393-716c-41c8-b9d8-84aa4342f737",
   "metadata": {},
   "source": [
    "### 동시 신호 처리 방식\n",
    "\n",
    "1. 작업이 끝나기 전 신호가 왔을 때 바로 다음 작업을 실행(겹치게)\n",
    "\n",
    "2. 선 잡업이 끝나면 다음 작업을 시작하게"
   ]
  },
  {
   "cell_type": "code",
   "execution_count": null,
   "id": "0af7a141-517c-4a72-8408-39fa65895cbf",
   "metadata": {},
   "outputs": [],
   "source": [
    "# 1\n",
    "if __name__ == '__main__':\n",
    "    app.run(host=\"0.0.0.0\", port=5000)\n",
    "    \n",
    "# 2\n",
    "if __name__ == '__main__':\n",
    "    app.run(host=\"0.0.0.0\", port=5000, threaded=False)"
   ]
  },
  {
   "cell_type": "code",
   "execution_count": null,
   "id": "f4561484-6d9b-4180-9cde-b84475865686",
   "metadata": {},
   "outputs": [],
   "source": []
  }
 ],
 "metadata": {
  "kernelspec": {
   "display_name": "ysher_yonsei",
   "language": "python",
   "name": "ysher_yonsei"
  },
  "language_info": {
   "codemirror_mode": {
    "name": "ipython",
    "version": 3
   },
   "file_extension": ".py",
   "mimetype": "text/x-python",
   "name": "python",
   "nbconvert_exporter": "python",
   "pygments_lexer": "ipython3",
   "version": "3.7.10"
  }
 },
 "nbformat": 4,
 "nbformat_minor": 5
}
